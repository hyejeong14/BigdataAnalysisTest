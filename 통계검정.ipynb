{
  "nbformat": 4,
  "nbformat_minor": 0,
  "metadata": {
    "colab": {
      "provenance": [],
      "authorship_tag": "ABX9TyNWozC5bjYY9Ql9wIN1lt9G",
      "include_colab_link": true
    },
    "kernelspec": {
      "name": "python3",
      "display_name": "Python 3"
    },
    "language_info": {
      "name": "python"
    }
  },
  "cells": [
    {
      "cell_type": "markdown",
      "metadata": {
        "id": "view-in-github",
        "colab_type": "text"
      },
      "source": [
        "<a href=\"https://colab.research.google.com/github/hyejeong14/BigdataAnalysisTest/blob/main/%ED%86%B5%EA%B3%84%EA%B2%80%EC%A0%95.ipynb\" target=\"_parent\"><img src=\"https://colab.research.google.com/assets/colab-badge.svg\" alt=\"Open In Colab\"/></a>"
      ]
    },
    {
      "cell_type": "code",
      "execution_count": 31,
      "metadata": {
        "id": "vKEdu4NkRKdv"
      },
      "outputs": [],
      "source": [
        "from scipy import stats"
      ]
    },
    {
      "cell_type": "code",
      "source": [
        "dir(stats)"
      ],
      "metadata": {
        "colab": {
          "base_uri": "https://localhost:8080/"
        },
        "id": "QszSZ-N9RSkD",
        "outputId": "2b51cf6e-eb92-48da-e010-d59cd9c750bf"
      },
      "execution_count": 32,
      "outputs": [
        {
          "output_type": "execute_result",
          "data": {
            "text/plain": [
              "['ConstantInputWarning',\n",
              " 'Covariance',\n",
              " 'DegenerateDataWarning',\n",
              " 'FitError',\n",
              " 'NearConstantInputWarning',\n",
              " '__all__',\n",
              " '__builtins__',\n",
              " '__cached__',\n",
              " '__doc__',\n",
              " '__file__',\n",
              " '__loader__',\n",
              " '__name__',\n",
              " '__package__',\n",
              " '__path__',\n",
              " '__spec__',\n",
              " '_axis_nan_policy',\n",
              " '_biasedurn',\n",
              " '_binned_statistic',\n",
              " '_binomtest',\n",
              " '_boost',\n",
              " '_common',\n",
              " '_constants',\n",
              " '_continuous_distns',\n",
              " '_covariance',\n",
              " '_crosstab',\n",
              " '_discrete_distns',\n",
              " '_distn_infrastructure',\n",
              " '_distr_params',\n",
              " '_entropy',\n",
              " '_fit',\n",
              " '_hypotests',\n",
              " '_kde',\n",
              " '_ksstats',\n",
              " '_levy_stable',\n",
              " '_mannwhitneyu',\n",
              " '_morestats',\n",
              " '_mstats_basic',\n",
              " '_mstats_extras',\n",
              " '_multivariate',\n",
              " '_mvn',\n",
              " '_odds_ratio',\n",
              " '_page_trend_test',\n",
              " '_qmc',\n",
              " '_qmc_cy',\n",
              " '_rcont',\n",
              " '_relative_risk',\n",
              " '_resampling',\n",
              " '_rvs_sampling',\n",
              " '_sobol',\n",
              " '_statlib',\n",
              " '_stats',\n",
              " '_stats_mstats_common',\n",
              " '_stats_py',\n",
              " '_stats_pythran',\n",
              " '_tukeylambda_stats',\n",
              " '_variation',\n",
              " '_warnings_errors',\n",
              " 'alexandergovern',\n",
              " 'alpha',\n",
              " 'anderson',\n",
              " 'anderson_ksamp',\n",
              " 'anglit',\n",
              " 'ansari',\n",
              " 'arcsine',\n",
              " 'argus',\n",
              " 'barnard_exact',\n",
              " 'bartlett',\n",
              " 'bayes_mvs',\n",
              " 'bernoulli',\n",
              " 'beta',\n",
              " 'betabinom',\n",
              " 'betaprime',\n",
              " 'biasedurn',\n",
              " 'binned_statistic',\n",
              " 'binned_statistic_2d',\n",
              " 'binned_statistic_dd',\n",
              " 'binom',\n",
              " 'binom_test',\n",
              " 'binomtest',\n",
              " 'boltzmann',\n",
              " 'bootstrap',\n",
              " 'boschloo_exact',\n",
              " 'boxcox',\n",
              " 'boxcox_llf',\n",
              " 'boxcox_normmax',\n",
              " 'boxcox_normplot',\n",
              " 'bradford',\n",
              " 'brunnermunzel',\n",
              " 'burr',\n",
              " 'burr12',\n",
              " 'cauchy',\n",
              " 'chi',\n",
              " 'chi2',\n",
              " 'chi2_contingency',\n",
              " 'chisquare',\n",
              " 'circmean',\n",
              " 'circstd',\n",
              " 'circvar',\n",
              " 'combine_pvalues',\n",
              " 'contingency',\n",
              " 'cosine',\n",
              " 'cramervonmises',\n",
              " 'cramervonmises_2samp',\n",
              " 'crystalball',\n",
              " 'cumfreq',\n",
              " 'describe',\n",
              " 'dgamma',\n",
              " 'differential_entropy',\n",
              " 'directional_stats',\n",
              " 'dirichlet',\n",
              " 'distributions',\n",
              " 'dlaplace',\n",
              " 'dweibull',\n",
              " 'energy_distance',\n",
              " 'entropy',\n",
              " 'epps_singleton_2samp',\n",
              " 'erlang',\n",
              " 'expectile',\n",
              " 'expon',\n",
              " 'exponnorm',\n",
              " 'exponpow',\n",
              " 'exponweib',\n",
              " 'f',\n",
              " 'f_oneway',\n",
              " 'fatiguelife',\n",
              " 'find_repeats',\n",
              " 'fisher_exact',\n",
              " 'fisk',\n",
              " 'fit',\n",
              " 'fligner',\n",
              " 'foldcauchy',\n",
              " 'foldnorm',\n",
              " 'friedmanchisquare',\n",
              " 'gamma',\n",
              " 'gausshyper',\n",
              " 'gaussian_kde',\n",
              " 'genexpon',\n",
              " 'genextreme',\n",
              " 'gengamma',\n",
              " 'genhalflogistic',\n",
              " 'genhyperbolic',\n",
              " 'geninvgauss',\n",
              " 'genlogistic',\n",
              " 'gennorm',\n",
              " 'genpareto',\n",
              " 'geom',\n",
              " 'gibrat',\n",
              " 'gilbrat',\n",
              " 'gmean',\n",
              " 'gompertz',\n",
              " 'goodness_of_fit',\n",
              " 'gstd',\n",
              " 'gumbel_l',\n",
              " 'gumbel_r',\n",
              " 'gzscore',\n",
              " 'halfcauchy',\n",
              " 'halfgennorm',\n",
              " 'halflogistic',\n",
              " 'halfnorm',\n",
              " 'hmean',\n",
              " 'hypergeom',\n",
              " 'hypsecant',\n",
              " 'invgamma',\n",
              " 'invgauss',\n",
              " 'invweibull',\n",
              " 'invwishart',\n",
              " 'iqr',\n",
              " 'jarque_bera',\n",
              " 'johnsonsb',\n",
              " 'johnsonsu',\n",
              " 'kappa3',\n",
              " 'kappa4',\n",
              " 'kde',\n",
              " 'kendalltau',\n",
              " 'kruskal',\n",
              " 'ks_1samp',\n",
              " 'ks_2samp',\n",
              " 'ksone',\n",
              " 'kstat',\n",
              " 'kstatvar',\n",
              " 'kstest',\n",
              " 'kstwo',\n",
              " 'kstwobign',\n",
              " 'kurtosis',\n",
              " 'kurtosistest',\n",
              " 'laplace',\n",
              " 'laplace_asymmetric',\n",
              " 'levene',\n",
              " 'levy',\n",
              " 'levy_l',\n",
              " 'levy_stable',\n",
              " 'linregress',\n",
              " 'loggamma',\n",
              " 'logistic',\n",
              " 'loglaplace',\n",
              " 'lognorm',\n",
              " 'logser',\n",
              " 'loguniform',\n",
              " 'lomax',\n",
              " 'mannwhitneyu',\n",
              " 'matrix_normal',\n",
              " 'maxwell',\n",
              " 'median_abs_deviation',\n",
              " 'median_test',\n",
              " 'mielke',\n",
              " 'mode',\n",
              " 'moment',\n",
              " 'monte_carlo_test',\n",
              " 'mood',\n",
              " 'morestats',\n",
              " 'moyal',\n",
              " 'mstats',\n",
              " 'mstats_basic',\n",
              " 'mstats_extras',\n",
              " 'multinomial',\n",
              " 'multiscale_graphcorr',\n",
              " 'multivariate_hypergeom',\n",
              " 'multivariate_normal',\n",
              " 'multivariate_t',\n",
              " 'mvn',\n",
              " 'mvsdist',\n",
              " 'nakagami',\n",
              " 'nbinom',\n",
              " 'ncf',\n",
              " 'nchypergeom_fisher',\n",
              " 'nchypergeom_wallenius',\n",
              " 'nct',\n",
              " 'ncx2',\n",
              " 'nhypergeom',\n",
              " 'norm',\n",
              " 'normaltest',\n",
              " 'norminvgauss',\n",
              " 'obrientransform',\n",
              " 'ortho_group',\n",
              " 'page_trend_test',\n",
              " 'pareto',\n",
              " 'pearson3',\n",
              " 'pearsonr',\n",
              " 'percentileofscore',\n",
              " 'permutation_test',\n",
              " 'planck',\n",
              " 'pmean',\n",
              " 'pointbiserialr',\n",
              " 'poisson',\n",
              " 'poisson_means_test',\n",
              " 'power_divergence',\n",
              " 'powerlaw',\n",
              " 'powerlognorm',\n",
              " 'powernorm',\n",
              " 'ppcc_max',\n",
              " 'ppcc_plot',\n",
              " 'probplot',\n",
              " 'qmc',\n",
              " 'randint',\n",
              " 'random_correlation',\n",
              " 'random_table',\n",
              " 'rankdata',\n",
              " 'ranksums',\n",
              " 'rayleigh',\n",
              " 'rdist',\n",
              " 'recipinvgauss',\n",
              " 'reciprocal',\n",
              " 'relfreq',\n",
              " 'rice',\n",
              " 'rv_continuous',\n",
              " 'rv_discrete',\n",
              " 'rv_histogram',\n",
              " 'rvs_ratio_uniforms',\n",
              " 'scoreatpercentile',\n",
              " 'sem',\n",
              " 'semicircular',\n",
              " 'shapiro',\n",
              " 'siegelslopes',\n",
              " 'sigmaclip',\n",
              " 'skellam',\n",
              " 'skew',\n",
              " 'skewcauchy',\n",
              " 'skewnorm',\n",
              " 'skewtest',\n",
              " 'somersd',\n",
              " 'spearmanr',\n",
              " 'special_ortho_group',\n",
              " 'statlib',\n",
              " 'stats',\n",
              " 'studentized_range',\n",
              " 't',\n",
              " 'test',\n",
              " 'theilslopes',\n",
              " 'tiecorrect',\n",
              " 'tmax',\n",
              " 'tmean',\n",
              " 'tmin',\n",
              " 'trapezoid',\n",
              " 'trapz',\n",
              " 'triang',\n",
              " 'trim1',\n",
              " 'trim_mean',\n",
              " 'trimboth',\n",
              " 'truncexpon',\n",
              " 'truncnorm',\n",
              " 'truncpareto',\n",
              " 'truncweibull_min',\n",
              " 'tsem',\n",
              " 'tstd',\n",
              " 'ttest_1samp',\n",
              " 'ttest_ind',\n",
              " 'ttest_ind_from_stats',\n",
              " 'ttest_rel',\n",
              " 'tukey_hsd',\n",
              " 'tukeylambda',\n",
              " 'tvar',\n",
              " 'uniform',\n",
              " 'uniform_direction',\n",
              " 'unitary_group',\n",
              " 'variation',\n",
              " 'vonmises',\n",
              " 'vonmises_line',\n",
              " 'wald',\n",
              " 'wasserstein_distance',\n",
              " 'weibull_max',\n",
              " 'weibull_min',\n",
              " 'weightedtau',\n",
              " 'wilcoxon',\n",
              " 'wishart',\n",
              " 'wrapcauchy',\n",
              " 'yeojohnson',\n",
              " 'yeojohnson_llf',\n",
              " 'yeojohnson_normmax',\n",
              " 'yeojohnson_normplot',\n",
              " 'yulesimon',\n",
              " 'zipf',\n",
              " 'zipfian',\n",
              " 'zmap',\n",
              " 'zscore']"
            ]
          },
          "metadata": {},
          "execution_count": 32
        }
      ]
    },
    {
      "cell_type": "markdown",
      "source": [
        "#binom_test"
      ],
      "metadata": {
        "id": "iM4K724tCEWd"
      }
    },
    {
      "cell_type": "code",
      "source": [
        "import numpy as np\n",
        "import pandas as pd\n",
        "N = 10\n",
        "mu_0 = 0.5\n",
        "np.random.seed(0)\n",
        "x=stats.bernoulli(mu_0).rvs(N)\n",
        "n=np.count_nonzero(x)\n",
        "n"
      ],
      "metadata": {
        "colab": {
          "base_uri": "https://localhost:8080/"
        },
        "id": "ruPhiX1JRPY9",
        "outputId": "3f94f6a4-b176-4906-80eb-9bdb3a78e1b3"
      },
      "execution_count": 33,
      "outputs": [
        {
          "output_type": "execute_result",
          "data": {
            "text/plain": [
              "7"
            ]
          },
          "metadata": {},
          "execution_count": 33
        }
      ]
    },
    {
      "cell_type": "code",
      "source": [
        "stats.binom_test(n,N)"
      ],
      "metadata": {
        "colab": {
          "base_uri": "https://localhost:8080/"
        },
        "id": "zyCxio0nSBg5",
        "outputId": "31f81cb5-c5a0-4753-8825-96309b75daa1"
      },
      "execution_count": 34,
      "outputs": [
        {
          "output_type": "stream",
          "name": "stderr",
          "text": [
            "<ipython-input-34-a17dded99bc9>:1: DeprecationWarning: 'binom_test' is deprecated in favour of 'binomtest' from version 1.7.0 and will be removed in Scipy 1.12.0.\n",
            "  stats.binom_test(n,N)\n"
          ]
        },
        {
          "output_type": "execute_result",
          "data": {
            "text/plain": [
              "0.34375"
            ]
          },
          "metadata": {},
          "execution_count": 34
        }
      ]
    },
    {
      "cell_type": "markdown",
      "source": [
        "이항 검정 예시<br>\n",
        "두 가지 값을 가지는 확률 변수의 분포를 판단<br>\n",
        "ex) 시험 합격자 10명 중 7명이 대학 졸업자라면 대학졸업자가 비졸업자보다 실력이 좋다고 주장할 수 있는가? - 베르누이 분포를 따른 다면?"
      ],
      "metadata": {
        "id": "rtuGMj2dST2V"
      }
    },
    {
      "cell_type": "code",
      "source": [
        "#mu_=0.5 라고 생각되는 확률 변수에서 데이터 개수 N=100번 시뮬레이션하여 1이 49번 나온 경우에 대해 이항검정을 실시\n",
        "N=100\n",
        "mu_0=0.5\n",
        "np.random.seed(0)\n",
        "x=stats.bernoulli(mu_0).rvs(N)\n",
        "n=np.count_nonzero(x)\n",
        "n"
      ],
      "metadata": {
        "colab": {
          "base_uri": "https://localhost:8080/"
        },
        "id": "1neB3tg0SM4C",
        "outputId": "3e7a0e37-f5d3-45ca-ceaf-33e86216f3ec"
      },
      "execution_count": 35,
      "outputs": [
        {
          "output_type": "execute_result",
          "data": {
            "text/plain": [
              "49"
            ]
          },
          "metadata": {},
          "execution_count": 35
        }
      ]
    },
    {
      "cell_type": "code",
      "source": [
        "stats.binom_test(n,N)"
      ],
      "metadata": {
        "colab": {
          "base_uri": "https://localhost:8080/"
        },
        "id": "qOYokqFeTKC7",
        "outputId": "d64a42b5-5561-4361-f37b-e85c937fc332"
      },
      "execution_count": 36,
      "outputs": [
        {
          "output_type": "stream",
          "name": "stderr",
          "text": [
            "<ipython-input-36-a17dded99bc9>:1: DeprecationWarning: 'binom_test' is deprecated in favour of 'binomtest' from version 1.7.0 and will be removed in Scipy 1.12.0.\n",
            "  stats.binom_test(n,N)\n"
          ]
        },
        {
          "output_type": "execute_result",
          "data": {
            "text/plain": [
              "0.9204107626128215"
            ]
          },
          "metadata": {},
          "execution_count": 36
        }
      ]
    },
    {
      "cell_type": "code",
      "source": [
        "N=100\n",
        "mu_0=0.35\n",
        "np.random.seed(0)\n",
        "x=stats.bernoulli(mu_0).rvs(N)\n",
        "n=np.count_nonzero(x)\n",
        "n"
      ],
      "metadata": {
        "colab": {
          "base_uri": "https://localhost:8080/"
        },
        "id": "6lW5t4JyTOpq",
        "outputId": "935f3260-67f9-4eb6-a22c-81a37b5cac8d"
      },
      "execution_count": 37,
      "outputs": [
        {
          "output_type": "execute_result",
          "data": {
            "text/plain": [
              "31"
            ]
          },
          "metadata": {},
          "execution_count": 37
        }
      ]
    },
    {
      "cell_type": "code",
      "source": [
        "stats.binom_test(n,N)"
      ],
      "metadata": {
        "colab": {
          "base_uri": "https://localhost:8080/"
        },
        "id": "KRESsHZgTdKs",
        "outputId": "b293c54c-b749-4b55-8073-9f7bc6bbffdb"
      },
      "execution_count": 38,
      "outputs": [
        {
          "output_type": "stream",
          "name": "stderr",
          "text": [
            "<ipython-input-38-a17dded99bc9>:1: DeprecationWarning: 'binom_test' is deprecated in favour of 'binomtest' from version 1.7.0 and will be removed in Scipy 1.12.0.\n",
            "  stats.binom_test(n,N)\n"
          ]
        },
        {
          "output_type": "execute_result",
          "data": {
            "text/plain": [
              "0.00018314322488235366"
            ]
          },
          "metadata": {},
          "execution_count": 38
        }
      ]
    },
    {
      "cell_type": "code",
      "source": [
        "#동전을 N번 던져 앞면이 나오는 횟수를 측정\n",
        "#1. N=10이고 유의 수주이 10%라면 앞면이 나온 횟수가 몇번 이어야 하고 동전이 공정하지 않다고 이야기할 수 있는가?"
      ],
      "metadata": {
        "id": "JBybMCbdTkrr"
      },
      "execution_count": 39,
      "outputs": []
    },
    {
      "cell_type": "code",
      "source": [
        "import seaborn as sns\n",
        "tips = sns.load_dataset('tips')\n",
        "tips"
      ],
      "metadata": {
        "colab": {
          "base_uri": "https://localhost:8080/",
          "height": 423
        },
        "id": "H5lGZeIlUlqb",
        "outputId": "40535d35-7ad7-478a-a02e-1a8d50146338"
      },
      "execution_count": 40,
      "outputs": [
        {
          "output_type": "execute_result",
          "data": {
            "text/plain": [
              "     total_bill   tip     sex smoker   day    time  size\n",
              "0         16.99  1.01  Female     No   Sun  Dinner     2\n",
              "1         10.34  1.66    Male     No   Sun  Dinner     3\n",
              "2         21.01  3.50    Male     No   Sun  Dinner     3\n",
              "3         23.68  3.31    Male     No   Sun  Dinner     2\n",
              "4         24.59  3.61  Female     No   Sun  Dinner     4\n",
              "..          ...   ...     ...    ...   ...     ...   ...\n",
              "239       29.03  5.92    Male     No   Sat  Dinner     3\n",
              "240       27.18  2.00  Female    Yes   Sat  Dinner     2\n",
              "241       22.67  2.00    Male    Yes   Sat  Dinner     2\n",
              "242       17.82  1.75    Male     No   Sat  Dinner     2\n",
              "243       18.78  3.00  Female     No  Thur  Dinner     2\n",
              "\n",
              "[244 rows x 7 columns]"
            ],
            "text/html": [
              "\n",
              "  <div id=\"df-7f1167aa-afe2-4a98-bc41-a4d350a92354\">\n",
              "    <div class=\"colab-df-container\">\n",
              "      <div>\n",
              "<style scoped>\n",
              "    .dataframe tbody tr th:only-of-type {\n",
              "        vertical-align: middle;\n",
              "    }\n",
              "\n",
              "    .dataframe tbody tr th {\n",
              "        vertical-align: top;\n",
              "    }\n",
              "\n",
              "    .dataframe thead th {\n",
              "        text-align: right;\n",
              "    }\n",
              "</style>\n",
              "<table border=\"1\" class=\"dataframe\">\n",
              "  <thead>\n",
              "    <tr style=\"text-align: right;\">\n",
              "      <th></th>\n",
              "      <th>total_bill</th>\n",
              "      <th>tip</th>\n",
              "      <th>sex</th>\n",
              "      <th>smoker</th>\n",
              "      <th>day</th>\n",
              "      <th>time</th>\n",
              "      <th>size</th>\n",
              "    </tr>\n",
              "  </thead>\n",
              "  <tbody>\n",
              "    <tr>\n",
              "      <th>0</th>\n",
              "      <td>16.99</td>\n",
              "      <td>1.01</td>\n",
              "      <td>Female</td>\n",
              "      <td>No</td>\n",
              "      <td>Sun</td>\n",
              "      <td>Dinner</td>\n",
              "      <td>2</td>\n",
              "    </tr>\n",
              "    <tr>\n",
              "      <th>1</th>\n",
              "      <td>10.34</td>\n",
              "      <td>1.66</td>\n",
              "      <td>Male</td>\n",
              "      <td>No</td>\n",
              "      <td>Sun</td>\n",
              "      <td>Dinner</td>\n",
              "      <td>3</td>\n",
              "    </tr>\n",
              "    <tr>\n",
              "      <th>2</th>\n",
              "      <td>21.01</td>\n",
              "      <td>3.50</td>\n",
              "      <td>Male</td>\n",
              "      <td>No</td>\n",
              "      <td>Sun</td>\n",
              "      <td>Dinner</td>\n",
              "      <td>3</td>\n",
              "    </tr>\n",
              "    <tr>\n",
              "      <th>3</th>\n",
              "      <td>23.68</td>\n",
              "      <td>3.31</td>\n",
              "      <td>Male</td>\n",
              "      <td>No</td>\n",
              "      <td>Sun</td>\n",
              "      <td>Dinner</td>\n",
              "      <td>2</td>\n",
              "    </tr>\n",
              "    <tr>\n",
              "      <th>4</th>\n",
              "      <td>24.59</td>\n",
              "      <td>3.61</td>\n",
              "      <td>Female</td>\n",
              "      <td>No</td>\n",
              "      <td>Sun</td>\n",
              "      <td>Dinner</td>\n",
              "      <td>4</td>\n",
              "    </tr>\n",
              "    <tr>\n",
              "      <th>...</th>\n",
              "      <td>...</td>\n",
              "      <td>...</td>\n",
              "      <td>...</td>\n",
              "      <td>...</td>\n",
              "      <td>...</td>\n",
              "      <td>...</td>\n",
              "      <td>...</td>\n",
              "    </tr>\n",
              "    <tr>\n",
              "      <th>239</th>\n",
              "      <td>29.03</td>\n",
              "      <td>5.92</td>\n",
              "      <td>Male</td>\n",
              "      <td>No</td>\n",
              "      <td>Sat</td>\n",
              "      <td>Dinner</td>\n",
              "      <td>3</td>\n",
              "    </tr>\n",
              "    <tr>\n",
              "      <th>240</th>\n",
              "      <td>27.18</td>\n",
              "      <td>2.00</td>\n",
              "      <td>Female</td>\n",
              "      <td>Yes</td>\n",
              "      <td>Sat</td>\n",
              "      <td>Dinner</td>\n",
              "      <td>2</td>\n",
              "    </tr>\n",
              "    <tr>\n",
              "      <th>241</th>\n",
              "      <td>22.67</td>\n",
              "      <td>2.00</td>\n",
              "      <td>Male</td>\n",
              "      <td>Yes</td>\n",
              "      <td>Sat</td>\n",
              "      <td>Dinner</td>\n",
              "      <td>2</td>\n",
              "    </tr>\n",
              "    <tr>\n",
              "      <th>242</th>\n",
              "      <td>17.82</td>\n",
              "      <td>1.75</td>\n",
              "      <td>Male</td>\n",
              "      <td>No</td>\n",
              "      <td>Sat</td>\n",
              "      <td>Dinner</td>\n",
              "      <td>2</td>\n",
              "    </tr>\n",
              "    <tr>\n",
              "      <th>243</th>\n",
              "      <td>18.78</td>\n",
              "      <td>3.00</td>\n",
              "      <td>Female</td>\n",
              "      <td>No</td>\n",
              "      <td>Thur</td>\n",
              "      <td>Dinner</td>\n",
              "      <td>2</td>\n",
              "    </tr>\n",
              "  </tbody>\n",
              "</table>\n",
              "<p>244 rows × 7 columns</p>\n",
              "</div>\n",
              "      <button class=\"colab-df-convert\" onclick=\"convertToInteractive('df-7f1167aa-afe2-4a98-bc41-a4d350a92354')\"\n",
              "              title=\"Convert this dataframe to an interactive table.\"\n",
              "              style=\"display:none;\">\n",
              "        \n",
              "  <svg xmlns=\"http://www.w3.org/2000/svg\" height=\"24px\"viewBox=\"0 0 24 24\"\n",
              "       width=\"24px\">\n",
              "    <path d=\"M0 0h24v24H0V0z\" fill=\"none\"/>\n",
              "    <path d=\"M18.56 5.44l.94 2.06.94-2.06 2.06-.94-2.06-.94-.94-2.06-.94 2.06-2.06.94zm-11 1L8.5 8.5l.94-2.06 2.06-.94-2.06-.94L8.5 2.5l-.94 2.06-2.06.94zm10 10l.94 2.06.94-2.06 2.06-.94-2.06-.94-.94-2.06-.94 2.06-2.06.94z\"/><path d=\"M17.41 7.96l-1.37-1.37c-.4-.4-.92-.59-1.43-.59-.52 0-1.04.2-1.43.59L10.3 9.45l-7.72 7.72c-.78.78-.78 2.05 0 2.83L4 21.41c.39.39.9.59 1.41.59.51 0 1.02-.2 1.41-.59l7.78-7.78 2.81-2.81c.8-.78.8-2.07 0-2.86zM5.41 20L4 18.59l7.72-7.72 1.47 1.35L5.41 20z\"/>\n",
              "  </svg>\n",
              "      </button>\n",
              "      \n",
              "  <style>\n",
              "    .colab-df-container {\n",
              "      display:flex;\n",
              "      flex-wrap:wrap;\n",
              "      gap: 12px;\n",
              "    }\n",
              "\n",
              "    .colab-df-convert {\n",
              "      background-color: #E8F0FE;\n",
              "      border: none;\n",
              "      border-radius: 50%;\n",
              "      cursor: pointer;\n",
              "      display: none;\n",
              "      fill: #1967D2;\n",
              "      height: 32px;\n",
              "      padding: 0 0 0 0;\n",
              "      width: 32px;\n",
              "    }\n",
              "\n",
              "    .colab-df-convert:hover {\n",
              "      background-color: #E2EBFA;\n",
              "      box-shadow: 0px 1px 2px rgba(60, 64, 67, 0.3), 0px 1px 3px 1px rgba(60, 64, 67, 0.15);\n",
              "      fill: #174EA6;\n",
              "    }\n",
              "\n",
              "    [theme=dark] .colab-df-convert {\n",
              "      background-color: #3B4455;\n",
              "      fill: #D2E3FC;\n",
              "    }\n",
              "\n",
              "    [theme=dark] .colab-df-convert:hover {\n",
              "      background-color: #434B5C;\n",
              "      box-shadow: 0px 1px 3px 1px rgba(0, 0, 0, 0.15);\n",
              "      filter: drop-shadow(0px 1px 2px rgba(0, 0, 0, 0.3));\n",
              "      fill: #FFFFFF;\n",
              "    }\n",
              "  </style>\n",
              "\n",
              "      <script>\n",
              "        const buttonEl =\n",
              "          document.querySelector('#df-7f1167aa-afe2-4a98-bc41-a4d350a92354 button.colab-df-convert');\n",
              "        buttonEl.style.display =\n",
              "          google.colab.kernel.accessAllowed ? 'block' : 'none';\n",
              "\n",
              "        async function convertToInteractive(key) {\n",
              "          const element = document.querySelector('#df-7f1167aa-afe2-4a98-bc41-a4d350a92354');\n",
              "          const dataTable =\n",
              "            await google.colab.kernel.invokeFunction('convertToInteractive',\n",
              "                                                     [key], {});\n",
              "          if (!dataTable) return;\n",
              "\n",
              "          const docLinkHtml = 'Like what you see? Visit the ' +\n",
              "            '<a target=\"_blank\" href=https://colab.research.google.com/notebooks/data_table.ipynb>data table notebook</a>'\n",
              "            + ' to learn more about interactive tables.';\n",
              "          element.innerHTML = '';\n",
              "          dataTable['output_type'] = 'display_data';\n",
              "          await google.colab.output.renderOutput(dataTable, element);\n",
              "          const docLink = document.createElement('div');\n",
              "          docLink.innerHTML = docLinkHtml;\n",
              "          element.appendChild(docLink);\n",
              "        }\n",
              "      </script>\n",
              "    </div>\n",
              "  </div>\n",
              "  "
            ]
          },
          "metadata": {},
          "execution_count": 40
        }
      ]
    },
    {
      "cell_type": "code",
      "source": [
        "female_smoke_n=len(tips[(tips['sex']=='Female')&(tips['smoker']=='No')])\n",
        "female_smoke_y=len(tips[(tips['sex']=='Female')&(tips['smoker']=='Yes')])\n",
        "female=len(tips[tips['sex']=='Female'])"
      ],
      "metadata": {
        "id": "TGVSIGBtUr7J"
      },
      "execution_count": 41,
      "outputs": []
    },
    {
      "cell_type": "code",
      "source": [
        "female_smoke_n"
      ],
      "metadata": {
        "colab": {
          "base_uri": "https://localhost:8080/"
        },
        "id": "Z6TWpLtdV_bS",
        "outputId": "c6a0ab94-2b6d-42db-b88f-73f915a59db9"
      },
      "execution_count": 42,
      "outputs": [
        {
          "output_type": "execute_result",
          "data": {
            "text/plain": [
              "54"
            ]
          },
          "metadata": {},
          "execution_count": 42
        }
      ]
    },
    {
      "cell_type": "code",
      "source": [
        "female_smoke_y"
      ],
      "metadata": {
        "colab": {
          "base_uri": "https://localhost:8080/"
        },
        "id": "Ta9ddlC9WBVM",
        "outputId": "dab39783-4a15-4a5f-93ac-7b94be8d5288"
      },
      "execution_count": 43,
      "outputs": [
        {
          "output_type": "execute_result",
          "data": {
            "text/plain": [
              "33"
            ]
          },
          "metadata": {},
          "execution_count": 43
        }
      ]
    },
    {
      "cell_type": "code",
      "source": [
        "x=stats.binom_test([female_smoke_n,female_smoke_y],p=0.6,alternative='greater')\n",
        "print('%.6f'%x)"
      ],
      "metadata": {
        "colab": {
          "base_uri": "https://localhost:8080/"
        },
        "id": "tLY-hFxgWiGb",
        "outputId": "c839bf2f-6d26-4512-b487-c00a53f2e8c1"
      },
      "execution_count": 44,
      "outputs": [
        {
          "output_type": "stream",
          "name": "stdout",
          "text": [
            "0.390704\n"
          ]
        },
        {
          "output_type": "stream",
          "name": "stderr",
          "text": [
            "<ipython-input-44-6b963ef45f3e>:1: DeprecationWarning: 'binom_test' is deprecated in favour of 'binomtest' from version 1.7.0 and will be removed in Scipy 1.12.0.\n",
            "  x=stats.binom_test([female_smoke_n,female_smoke_y],p=0.6,alternative='greater')\n"
          ]
        }
      ]
    },
    {
      "cell_type": "markdown",
      "source": [
        "#chisquare,chi2_contingency"
      ],
      "metadata": {
        "id": "odxvp39mCKZO"
      }
    },
    {
      "cell_type": "code",
      "source": [
        "#카이제곱검정 => 적합도 검정\n",
        "#주사위를 n번 던졌을 때 나오는 데이터의 차이가 있는지 없는지 알아보기\n",
        "#H0 = 두 변수는 연관성이 없다. => 주사위 프로그램은 제대로 만들어졌다.\n",
        "#H1 = 두 변수는 연광성이 있다. => 주사위 프로그램은 문제가 있다.\n",
        "from scipy import stats\n",
        "\n",
        "data1 = [4,6,17,16,8,9]\n",
        "#기대값\n",
        "data2 = [10,10,10,10,10,10]\n",
        "\n",
        "chis = stats.chisquare(data1,data2)\n",
        "chis"
      ],
      "metadata": {
        "id": "neeEyQw8W0K4",
        "colab": {
          "base_uri": "https://localhost:8080/"
        },
        "outputId": "80f1298f-32a4-4ea4-953a-56026fa04a60"
      },
      "execution_count": 49,
      "outputs": [
        {
          "output_type": "execute_result",
          "data": {
            "text/plain": [
              "Power_divergenceResult(statistic=14.200000000000001, pvalue=0.014387678176921308)"
            ]
          },
          "metadata": {},
          "execution_count": 49
        }
      ]
    },
    {
      "cell_type": "code",
      "source": [
        "#완두콩 잡종의 분류에 대한 관측도수와 기대치,\n",
        "# 이 데이터는 유전의 이론적으로 모형에 부합한다고 볼 수 있는가?\n",
        "#유의수준 : 0.05\n",
        "\n",
        "#관측값\n",
        "data1=[322,108,98,32]\n",
        "#기대값\n",
        "data2=[315,105,105,35]\n",
        "\n",
        "chis=stats.chisquare(data1,data2)\n",
        "chis"
      ],
      "metadata": {
        "colab": {
          "base_uri": "https://localhost:8080/"
        },
        "id": "HC5wKw2byEbb",
        "outputId": "afccc8d2-d8ab-44fc-f993-a06211f4cd34"
      },
      "execution_count": 51,
      "outputs": [
        {
          "output_type": "execute_result",
          "data": {
            "text/plain": [
              "Power_divergenceResult(statistic=0.9650793650793651, pvalue=0.8097008543276216)"
            ]
          },
          "metadata": {},
          "execution_count": 51
        }
      ]
    },
    {
      "cell_type": "code",
      "source": [
        "#관측값\n",
        "data1=[86,36,30,19]\n",
        "data2=[]\n",
        "for i in range(len(data1)):\n",
        "  data2.append(sum(data1)*0.25)\n",
        "data2"
      ],
      "metadata": {
        "colab": {
          "base_uri": "https://localhost:8080/"
        },
        "id": "oMhpq7Ruy-qI",
        "outputId": "1c409372-0ea9-4adc-d378-889d7eb22896"
      },
      "execution_count": 57,
      "outputs": [
        {
          "output_type": "execute_result",
          "data": {
            "text/plain": [
              "[42.75, 42.75, 42.75, 42.75]"
            ]
          },
          "metadata": {},
          "execution_count": 57
        }
      ]
    },
    {
      "cell_type": "code",
      "source": [
        "help(stats.chisquare)"
      ],
      "metadata": {
        "colab": {
          "base_uri": "https://localhost:8080/"
        },
        "id": "CmNg97sh0z0q",
        "outputId": "177fd429-a3d8-46d1-a60f-ee064c758f48"
      },
      "execution_count": 58,
      "outputs": [
        {
          "output_type": "stream",
          "name": "stdout",
          "text": [
            "Help on function chisquare in module scipy.stats._stats_py:\n",
            "\n",
            "chisquare(f_obs, f_exp=None, ddof=0, axis=0)\n",
            "    Calculate a one-way chi-square test.\n",
            "    \n",
            "    The chi-square test tests the null hypothesis that the categorical data\n",
            "    has the given frequencies.\n",
            "    \n",
            "    Parameters\n",
            "    ----------\n",
            "    f_obs : array_like\n",
            "        Observed frequencies in each category.\n",
            "    f_exp : array_like, optional\n",
            "        Expected frequencies in each category.  By default the categories are\n",
            "        assumed to be equally likely.\n",
            "    ddof : int, optional\n",
            "        \"Delta degrees of freedom\": adjustment to the degrees of freedom\n",
            "        for the p-value.  The p-value is computed using a chi-squared\n",
            "        distribution with ``k - 1 - ddof`` degrees of freedom, where `k`\n",
            "        is the number of observed frequencies.  The default value of `ddof`\n",
            "        is 0.\n",
            "    axis : int or None, optional\n",
            "        The axis of the broadcast result of `f_obs` and `f_exp` along which to\n",
            "        apply the test.  If axis is None, all values in `f_obs` are treated\n",
            "        as a single data set.  Default is 0.\n",
            "    \n",
            "    Returns\n",
            "    -------\n",
            "    chisq : float or ndarray\n",
            "        The chi-squared test statistic.  The value is a float if `axis` is\n",
            "        None or `f_obs` and `f_exp` are 1-D.\n",
            "    p : float or ndarray\n",
            "        The p-value of the test.  The value is a float if `ddof` and the\n",
            "        return value `chisq` are scalars.\n",
            "    \n",
            "    See Also\n",
            "    --------\n",
            "    scipy.stats.power_divergence\n",
            "    scipy.stats.fisher_exact : Fisher exact test on a 2x2 contingency table.\n",
            "    scipy.stats.barnard_exact : An unconditional exact test. An alternative\n",
            "        to chi-squared test for small sample sizes.\n",
            "    \n",
            "    Notes\n",
            "    -----\n",
            "    This test is invalid when the observed or expected frequencies in each\n",
            "    category are too small.  A typical rule is that all of the observed\n",
            "    and expected frequencies should be at least 5. According to [3]_, the\n",
            "    total number of samples is recommended to be greater than 13,\n",
            "    otherwise exact tests (such as Barnard's Exact test) should be used\n",
            "    because they do not overreject.\n",
            "    \n",
            "    Also, the sum of the observed and expected frequencies must be the same\n",
            "    for the test to be valid; `chisquare` raises an error if the sums do not\n",
            "    agree within a relative tolerance of ``1e-8``.\n",
            "    \n",
            "    The default degrees of freedom, k-1, are for the case when no parameters\n",
            "    of the distribution are estimated. If p parameters are estimated by\n",
            "    efficient maximum likelihood then the correct degrees of freedom are\n",
            "    k-1-p. If the parameters are estimated in a different way, then the\n",
            "    dof can be between k-1-p and k-1. However, it is also possible that\n",
            "    the asymptotic distribution is not chi-square, in which case this test\n",
            "    is not appropriate.\n",
            "    \n",
            "    References\n",
            "    ----------\n",
            "    .. [1] Lowry, Richard.  \"Concepts and Applications of Inferential\n",
            "           Statistics\". Chapter 8.\n",
            "           https://web.archive.org/web/20171022032306/http://vassarstats.net:80/textbook/ch8pt1.html\n",
            "    .. [2] \"Chi-squared test\", https://en.wikipedia.org/wiki/Chi-squared_test\n",
            "    .. [3] Pearson, Karl. \"On the criterion that a given system of deviations from the probable\n",
            "           in the case of a correlated system of variables is such that it can be reasonably\n",
            "           supposed to have arisen from random sampling\", Philosophical Magazine. Series 5. 50\n",
            "           (1900), pp. 157-175.\n",
            "    \n",
            "    Examples\n",
            "    --------\n",
            "    When just `f_obs` is given, it is assumed that the expected frequencies\n",
            "    are uniform and given by the mean of the observed frequencies.\n",
            "    \n",
            "    >>> import numpy as np\n",
            "    >>> from scipy.stats import chisquare\n",
            "    >>> chisquare([16, 18, 16, 14, 12, 12])\n",
            "    (2.0, 0.84914503608460956)\n",
            "    \n",
            "    With `f_exp` the expected frequencies can be given.\n",
            "    \n",
            "    >>> chisquare([16, 18, 16, 14, 12, 12], f_exp=[16, 16, 16, 16, 16, 8])\n",
            "    (3.5, 0.62338762774958223)\n",
            "    \n",
            "    When `f_obs` is 2-D, by default the test is applied to each column.\n",
            "    \n",
            "    >>> obs = np.array([[16, 18, 16, 14, 12, 12], [32, 24, 16, 28, 20, 24]]).T\n",
            "    >>> obs.shape\n",
            "    (6, 2)\n",
            "    >>> chisquare(obs)\n",
            "    (array([ 2.        ,  6.66666667]), array([ 0.84914504,  0.24663415]))\n",
            "    \n",
            "    By setting ``axis=None``, the test is applied to all data in the array,\n",
            "    which is equivalent to applying the test to the flattened array.\n",
            "    \n",
            "    >>> chisquare(obs, axis=None)\n",
            "    (23.31034482758621, 0.015975692534127565)\n",
            "    >>> chisquare(obs.ravel())\n",
            "    (23.31034482758621, 0.015975692534127565)\n",
            "    \n",
            "    `ddof` is the change to make to the default degrees of freedom.\n",
            "    \n",
            "    >>> chisquare([16, 18, 16, 14, 12, 12], ddof=1)\n",
            "    (2.0, 0.73575888234288467)\n",
            "    \n",
            "    The calculation of the p-values is done by broadcasting the\n",
            "    chi-squared statistic with `ddof`.\n",
            "    \n",
            "    >>> chisquare([16, 18, 16, 14, 12, 12], ddof=[0,1,2])\n",
            "    (2.0, array([ 0.84914504,  0.73575888,  0.5724067 ]))\n",
            "    \n",
            "    `f_obs` and `f_exp` are also broadcast.  In the following, `f_obs` has\n",
            "    shape (6,) and `f_exp` has shape (2, 6), so the result of broadcasting\n",
            "    `f_obs` and `f_exp` has shape (2, 6).  To compute the desired chi-squared\n",
            "    statistics, we use ``axis=1``:\n",
            "    \n",
            "    >>> chisquare([16, 18, 16, 14, 12, 12],\n",
            "    ...           f_exp=[[16, 16, 16, 16, 16, 8], [8, 20, 20, 16, 12, 12]],\n",
            "    ...           axis=1)\n",
            "    (array([ 3.5 ,  9.25]), array([ 0.62338763,  0.09949846]))\n",
            "\n"
          ]
        }
      ]
    },
    {
      "cell_type": "code",
      "source": [
        "statistic,pvalue=stats.chisquare(data1,data2)"
      ],
      "metadata": {
        "colab": {
          "base_uri": "https://localhost:8080/"
        },
        "id": "faee4NYvzlLM",
        "outputId": "395098d9-197b-4be3-ac61-d6f03d26419a"
      },
      "execution_count": 61,
      "outputs": [
        {
          "output_type": "execute_result",
          "data": {
            "text/plain": [
              "Power_divergenceResult(statistic=61.8187134502924, pvalue=2.4021451008245795e-13)"
            ]
          },
          "metadata": {},
          "execution_count": 61
        }
      ]
    },
    {
      "cell_type": "code",
      "source": [
        "if pvalue<0.05:\n",
        "  print(\"귀무가설 기각 : 대립가설 채택, 차이 있음, 유의미함\")"
      ],
      "metadata": {
        "colab": {
          "base_uri": "https://localhost:8080/"
        },
        "id": "YmemsGo70_NC",
        "outputId": "b699d6e4-e859-41d5-ae2f-65755cbad936"
      },
      "execution_count": 63,
      "outputs": [
        {
          "output_type": "stream",
          "name": "stdout",
          "text": [
            "귀무가설 기각 : 대립가설 채택, 차이 있음, 유의미함\n"
          ]
        }
      ]
    },
    {
      "cell_type": "code",
      "source": [
        "data1=[21,109,62,15]\n",
        "#전체 표본수\n",
        "total=np.sum(data1)\n",
        "\n",
        "#기대비율\n",
        "n=[0.08,0.47,0.34,0.11]\n",
        "data2=[]\n",
        "for i in n:\n",
        "  data2.append(i*total)\n",
        "\n",
        "data2"
      ],
      "metadata": {
        "colab": {
          "base_uri": "https://localhost:8080/"
        },
        "id": "FelhS0Qi1Enh",
        "outputId": "582c48df-32dc-42b3-f3d3-c7ff64ef35cb"
      },
      "execution_count": 72,
      "outputs": [
        {
          "output_type": "execute_result",
          "data": {
            "text/plain": [
              "[16.56, 97.28999999999999, 70.38000000000001, 22.77]"
            ]
          },
          "metadata": {},
          "execution_count": 72
        }
      ]
    },
    {
      "cell_type": "code",
      "source": [
        "s,p = stats.chisquare(data1,data2)\n",
        "print(s,p)\n",
        "if p<0.05:\n",
        "  print(\"귀무가설 기각\")\n",
        "else:\n",
        "  print(\"귀무가설 채택\")"
      ],
      "metadata": {
        "colab": {
          "base_uri": "https://localhost:8080/"
        },
        "id": "6j6_FXJ31qw3",
        "outputId": "6b5d267a-bd21-421f-df81-21acc703918c"
      },
      "execution_count": 73,
      "outputs": [
        {
          "output_type": "stream",
          "name": "stdout",
          "text": [
            "6.249083587686194 0.10010099872459155\n",
            "귀무가설 채택\n"
          ]
        }
      ]
    },
    {
      "cell_type": "markdown",
      "source": [
        "독립성 검정 = chi2_contingency"
      ],
      "metadata": {
        "id": "abv1D0dF8NNw"
      }
    },
    {
      "cell_type": "code",
      "source": [
        "obs=np.array([[5,15],[10,20]])\n",
        "chis= stats.chi2_contingency(obs)\n",
        "print(chis.statistic,chis.pvalue)"
      ],
      "metadata": {
        "colab": {
          "base_uri": "https://localhost:8080/"
        },
        "id": "Lj6Qv9nJ795Y",
        "outputId": "deb8c98c-49ff-494f-ad26-95603339b750"
      },
      "execution_count": 77,
      "outputs": [
        {
          "output_type": "stream",
          "name": "stdout",
          "text": [
            "0.0992063492063492 0.7527841326498471\n"
          ]
        }
      ]
    },
    {
      "cell_type": "code",
      "source": [
        "#두 개의 광고 서비스를 통해 각각 유입된 사용자들의 이용률을\n",
        "#독립성 검정을 이용해 분석해라.\n",
        "data1=np.array([40,165]) #지속 이용자수, 해지 이용자 수\n",
        "data2=np.array([62,228])\n",
        "obs=np.array([[40,165],[62,228]])\n",
        "print(obs)\n",
        "#이용률\n",
        "a = data1[0]/(data1[0]+data1[1])\n",
        "b= data2[0]/(data2[0]+data2[1])\n",
        "s,p,_,_ = stats.chi2_contingency(obs)\n",
        "\n",
        "print(s,p)"
      ],
      "metadata": {
        "colab": {
          "base_uri": "https://localhost:8080/"
        },
        "id": "dSVlfykz80qN",
        "outputId": "89cbc43e-74f9-40f9-9168-c866488b2330"
      },
      "execution_count": 83,
      "outputs": [
        {
          "output_type": "stream",
          "name": "stdout",
          "text": [
            "[[ 40 165]\n",
            " [ 62 228]]\n",
            "0.15451791002162868 0.694254736449269\n"
          ]
        }
      ]
    },
    {
      "cell_type": "code",
      "source": [
        "#성별과 학력이 서로 관계가 있는가?\n",
        "data1=[12,13,65,41]\n",
        "data2=[11,6,47,5]\n",
        "\n",
        "s,p,_,_ = stats.chi2_contingency([data1,data2])\n",
        "print(s,p)"
      ],
      "metadata": {
        "colab": {
          "base_uri": "https://localhost:8080/"
        },
        "id": "jO2Q3U-M-OS-",
        "outputId": "259aacb4-f59c-4ab2-bf9d-a109fb546209"
      },
      "execution_count": 84,
      "outputs": [
        {
          "output_type": "stream",
          "name": "stdout",
          "text": [
            "16.00751832683485 0.0011299666560108685\n"
          ]
        }
      ]
    },
    {
      "cell_type": "code",
      "source": [
        "#제품의 판매량 비율은 다음과 같다 a:56%,b:12%,c:32%\n",
        "#a,b,c 의 보유대수 : 324,78,261\n",
        "data1=[324,78,261]\n",
        "per=[0.56,0.12,0.32]\n",
        "total=sum(data1)\n",
        "data2=[]\n",
        "for i in per:\n",
        "  data2.append(i*total)\n",
        "\n",
        "data2\n"
      ],
      "metadata": {
        "colab": {
          "base_uri": "https://localhost:8080/"
        },
        "id": "bJUZvHK3ABrj",
        "outputId": "f92316cf-80f5-40ca-8aad-3b45ede7446d"
      },
      "execution_count": 91,
      "outputs": [
        {
          "output_type": "execute_result",
          "data": {
            "text/plain": [
              "[371.28000000000003, 79.56, 212.16]"
            ]
          },
          "metadata": {},
          "execution_count": 91
        }
      ]
    },
    {
      "cell_type": "code",
      "source": [
        "s,p = stats.chisquare(data1,data2)\n",
        "print(s,p)"
      ],
      "metadata": {
        "colab": {
          "base_uri": "https://localhost:8080/"
        },
        "id": "lc0rumOUBNJj",
        "outputId": "d8f07310-91e9-451f-a034-a4c4b9f98136"
      },
      "execution_count": 92,
      "outputs": [
        {
          "output_type": "stream",
          "name": "stdout",
          "text": [
            "17.29452165481578 0.00017560720841475175\n"
          ]
        }
      ]
    },
    {
      "cell_type": "markdown",
      "source": [
        "#t-test"
      ],
      "metadata": {
        "id": "dowhkEGaCBq-"
      }
    },
    {
      "cell_type": "code",
      "source": [
        "#단일 표본 t-test\n",
        "#하나의 데이터 집단의 평균과 비교하고자 하는 관측치를 통해 차이를 검정\n",
        "#stats.ttest_1samp() 이용\n",
        "#귀무가설 = 표본의 평균이 모집단의 평균과 일치한다.\n",
        "import numpy as np\n",
        "one_sample=[177.3,182.7,169.6,172.9,180.1,180.6,178.5,177.9,181.2,172.1]\n",
        "sample_mean = np.mean(one_sample)\n",
        "\n",
        "result = stats.ttest_1samp(one_sample,175)\n",
        "\n",
        "print(sample_mean,result)\n",
        "#귀무가설 => pvalue 0.05 이상으로 채택 차이없음"
      ],
      "metadata": {
        "colab": {
          "base_uri": "https://localhost:8080/"
        },
        "id": "q8MOOoYYCBCt",
        "outputId": "95e30cc2-626b-419c-9765-6baeed1cac47"
      },
      "execution_count": 95,
      "outputs": [
        {
          "output_type": "stream",
          "name": "stdout",
          "text": [
            "177.29 TtestResult(statistic=1.6633407423396576, pvalue=0.13060497853705164, df=9)\n"
          ]
        }
      ]
    },
    {
      "cell_type": "code",
      "source": [
        "#독립표본 t-test\n",
        "#두 개의 집단 평균 검정\n",
        "#stats.ttest_ind(x,y)\n",
        "\n",
        "female=[63.8,56.4,55.2,58.9,50.32,60.9,60.3]\n",
        "male=[80.1,60.5,78.1,65.4,60.1,70.8,68.2]\n",
        "\n",
        "s,p = stats.ttest_ind(female,male)\n",
        "print(s,p)"
      ],
      "metadata": {
        "colab": {
          "base_uri": "https://localhost:8080/"
        },
        "id": "GnOzmXWkEFH2",
        "outputId": "9d6bfd42-c285-46de-df51-de436fce2751"
      },
      "execution_count": 96,
      "outputs": [
        {
          "output_type": "stream",
          "name": "stdout",
          "text": [
            "-3.230297337384503 0.007215325362114261\n"
          ]
        }
      ]
    },
    {
      "cell_type": "code",
      "source": [
        "#대응표본 t-test\n",
        "#같은 집단의 대응되는 두 변수를 비교\n",
        "#before after 변화 비교 => 두 평균의 차이가 유의미하다 (?)\n",
        "#stats.ttest_rel(x,y)\n",
        "baseline = [67.2, 67.4, 71.5, 77.6, 86.0, 89.1, 59.5, 81.9, 105.5]\n",
        "follow_up = [62.4, 64.6, 70.4, 62.6, 80.1, 73.2, 58.2, 71.0, 101.0]\n",
        "\n",
        "s,p = stats.ttest_rel(baseline,follow_up)\n",
        "print(s,p)"
      ],
      "metadata": {
        "colab": {
          "base_uri": "https://localhost:8080/"
        },
        "id": "vn_JWqBUEqeM",
        "outputId": "9258cb06-0691-429f-bef9-cc952e617b28"
      },
      "execution_count": 97,
      "outputs": [
        {
          "output_type": "stream",
          "name": "stdout",
          "text": [
            "3.6681166519351103 0.006326650855933662\n"
          ]
        }
      ]
    },
    {
      "cell_type": "code",
      "source": [
        "np.random.seed(1) # 재현률 난수값을 고정할 때 사용\n",
        "# np.random.normal(평균,표준편차)\n",
        "heights = [180 + np.random.normal(1,10) for a in range(20)]\n",
        "heights"
      ],
      "metadata": {
        "colab": {
          "base_uri": "https://localhost:8080/"
        },
        "id": "W7wT-jBYFa1e",
        "outputId": "524c71f7-47ac-49a3-9f35-65dd53fd3a29"
      },
      "execution_count": 98,
      "outputs": [
        {
          "output_type": "execute_result",
          "data": {
            "text/plain": [
              "[197.2434536366324,\n",
              " 174.88243586349924,\n",
              " 175.71828247736545,\n",
              " 170.2703137784383,\n",
              " 189.6540762932468,\n",
              " 157.98461303119717,\n",
              " 198.4481176421648,\n",
              " 173.38793099104896,\n",
              " 184.190390960571,\n",
              " 178.5062962452259,\n",
              " 195.62107937044973,\n",
              " 160.39859290502346,\n",
              " 177.77582795986493,\n",
              " 177.15945645331584,\n",
              " 192.33769442335438,\n",
              " 170.0010873268597,\n",
              " 179.27571792449564,\n",
              " 172.2214158207863,\n",
              " 181.42213746715592,\n",
              " 186.8281521371582]"
            ]
          },
          "metadata": {},
          "execution_count": 98
        }
      ]
    },
    {
      "cell_type": "code",
      "source": [
        "s,p = stats.ttest_1samp(heights,178)\n",
        "print(s,p)\n",
        "#유의 수준 0.05 이상으로 귀무가설 채택"
      ],
      "metadata": {
        "colab": {
          "base_uri": "https://localhost:8080/"
        },
        "id": "2QKOCV5DFlJy",
        "outputId": "3722bf23-7ff0-4c18-f31b-1af3e2c27233"
      },
      "execution_count": 99,
      "outputs": [
        {
          "output_type": "stream",
          "name": "stdout",
          "text": [
            "0.6604319915024606 0.5169043922395178\n"
          ]
        }
      ]
    },
    {
      "cell_type": "code",
      "source": [
        "np.random.seed(1)\n",
        "group1=[170+np.random.normal(0,5) for a in range(20)]\n",
        "group2=[179+np.random.normal(0,2) for a in range(20)]\n",
        "print(\"group1의 평균 :\",np.mean(group1))\n",
        "print(\"group2의 평균 :\",np.mean(group2))"
      ],
      "metadata": {
        "colab": {
          "base_uri": "https://localhost:8080/"
        },
        "id": "1iJ8KQsiF5FW",
        "outputId": "c39a450d-d974-4bc8-c23e-47d9d7a72f55"
      },
      "execution_count": 100,
      "outputs": [
        {
          "output_type": "stream",
          "name": "stdout",
          "text": [
            "group1의 평균 : 169.33317681769637\n",
            "group2의 평균 : 178.90833737464592\n"
          ]
        }
      ]
    },
    {
      "cell_type": "code",
      "source": [
        "s,p = stats.ttest_ind(group1,group2)\n",
        "print(s,p)\n",
        "if p<0.05:\n",
        "  print(\"귀무가설 기각\")\n",
        "else:\n",
        "  print(\"귀무가설 채택 차이 없음\")"
      ],
      "metadata": {
        "colab": {
          "base_uri": "https://localhost:8080/"
        },
        "id": "2xDPPdZJGTcu",
        "outputId": "27a93e26-1b9e-41be-b547-b0a4764e3fd1"
      },
      "execution_count": 102,
      "outputs": [
        {
          "output_type": "stream",
          "name": "stdout",
          "text": [
            "-7.28437152285536 1.0173557910602552e-08\n",
            "귀무가설 기각\n"
          ]
        }
      ]
    },
    {
      "cell_type": "markdown",
      "source": [
        "#F검정"
      ],
      "metadata": {
        "id": "2MH_W-nIHypA"
      }
    },
    {
      "cell_type": "code",
      "source": [
        "boy = np.array( [46,47,58,47,27,58,56,26,47,25] )\n",
        "girl= np.array( [78,57,31,28,67,77,36,57,36,57] )\n",
        "\n",
        "#영화의 광고 전후에 대한 선호도\n",
        "bf = np.array([11,14,18,19,20,22,24,30,31,28,35] )\n",
        "af = np.array([100,90,1,89,9,22,25,28,69,79,87])\n",
        "\n",
        "print(stats.f_oneway( boy, girl) ) # 분산 같다. 귀무가설 채택\n",
        "print( stats.f_oneway( bf, af)) # 분산 다름. 귀무가설 기각"
      ],
      "metadata": {
        "colab": {
          "base_uri": "https://localhost:8080/"
        },
        "id": "O-YNhDpGGh3j",
        "outputId": "82700f3b-b050-46a6-87dd-2cd9a8615432"
      },
      "execution_count": 111,
      "outputs": [
        {
          "output_type": "stream",
          "name": "stdout",
          "text": [
            "F_onewayResult(statistic=1.4591624718860445, pvalue=0.24269553293319618)\n",
            "F_onewayResult(statistic=7.545179967916583, pvalue=0.012432212331707625)\n"
          ]
        }
      ]
    },
    {
      "cell_type": "code",
      "source": [],
      "metadata": {
        "id": "8bgiM-W1JKxI"
      },
      "execution_count": null,
      "outputs": []
    },
    {
      "cell_type": "code",
      "source": [
        "# 37 가설검정 - 단일 집단 모평균 가설검정29분 -t검정\n",
        "# 38 가설검정 - 두 집단 모평균 차이 가설검정(독립)25분\n",
        "# 39 가설검정 - 두 집단 모평균 차이 가설검정(대응)17분\n",
        "# 40 가설검정 - 단일 집단 모비율 가설검정21분\n",
        "# 41 가설검정 - 두 집단 모비율 가설검정20분\n",
        "# 42 가설검정 - 단일 집단 모분산 가설검정22분 -F 검정\n",
        "# 43 가설검정 - 두 집단 모분산 비 가설검정19분\n",
        "# 44 가설검정 - 세 집단 모평균 비교 가설검정"
      ],
      "metadata": {
        "id": "ng9tjppq2kFI"
      },
      "execution_count": null,
      "outputs": []
    }
  ]
}