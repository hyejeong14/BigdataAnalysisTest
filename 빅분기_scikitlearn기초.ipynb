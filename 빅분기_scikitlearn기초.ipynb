{
  "nbformat": 4,
  "nbformat_minor": 0,
  "metadata": {
    "colab": {
      "provenance": [],
      "toc_visible": true,
      "authorship_tag": "ABX9TyPjfFhxbrebcfRednxatsQI",
      "include_colab_link": true
    },
    "kernelspec": {
      "name": "python3",
      "display_name": "Python 3"
    },
    "language_info": {
      "name": "python"
    }
  },
  "cells": [
    {
      "cell_type": "markdown",
      "metadata": {
        "id": "view-in-github",
        "colab_type": "text"
      },
      "source": [
        "<a href=\"https://colab.research.google.com/github/hyejeong14/BigdataAnalysisTest/blob/main/%EB%B9%85%EB%B6%84%EA%B8%B0_scikitlearn%EA%B8%B0%EC%B4%88.ipynb\" target=\"_parent\"><img src=\"https://colab.research.google.com/assets/colab-badge.svg\" alt=\"Open In Colab\"/></a>"
      ]
    },
    {
      "cell_type": "markdown",
      "source": [
        "#colab 내장 데이터셋 실습"
      ],
      "metadata": {
        "id": "geswp0dCsghS"
      }
    },
    {
      "cell_type": "markdown",
      "source": [
        "##데이터 불러오기"
      ],
      "metadata": {
        "id": "VorgdwPOsvrJ"
      }
    },
    {
      "cell_type": "code",
      "execution_count": null,
      "metadata": {
        "colab": {
          "base_uri": "https://localhost:8080/"
        },
        "id": "cDwSoWChTyUT",
        "outputId": "adb41325-9ba7-4070-99a2-08ace99b6f44"
      },
      "outputs": [
        {
          "output_type": "stream",
          "name": "stdout",
          "text": [
            "housing 변수 type :  <class 'pandas.core.frame.DataFrame'> \n",
            "\n",
            "       longitude  latitude  housing_median_age  total_rooms  total_bedrooms  \\\n",
            "0        -114.31     34.19                15.0       5612.0          1283.0   \n",
            "1        -114.47     34.40                19.0       7650.0          1901.0   \n",
            "2        -114.56     33.69                17.0        720.0           174.0   \n",
            "3        -114.57     33.64                14.0       1501.0           337.0   \n",
            "4        -114.57     33.57                20.0       1454.0           326.0   \n",
            "...          ...       ...                 ...          ...             ...   \n",
            "16995    -124.26     40.58                52.0       2217.0           394.0   \n",
            "16996    -124.27     40.69                36.0       2349.0           528.0   \n",
            "16997    -124.30     41.84                17.0       2677.0           531.0   \n",
            "16998    -124.30     41.80                19.0       2672.0           552.0   \n",
            "16999    -124.35     40.54                52.0       1820.0           300.0   \n",
            "\n",
            "       population  households  median_income  median_house_value  \n",
            "0          1015.0       472.0         1.4936             66900.0  \n",
            "1          1129.0       463.0         1.8200             80100.0  \n",
            "2           333.0       117.0         1.6509             85700.0  \n",
            "3           515.0       226.0         3.1917             73400.0  \n",
            "4           624.0       262.0         1.9250             65500.0  \n",
            "...           ...         ...            ...                 ...  \n",
            "16995       907.0       369.0         2.3571            111400.0  \n",
            "16996      1194.0       465.0         2.5179             79000.0  \n",
            "16997      1244.0       456.0         3.0313            103600.0  \n",
            "16998      1298.0       478.0         1.9797             85800.0  \n",
            "16999       806.0       270.0         3.0147             94600.0  \n",
            "\n",
            "[17000 rows x 9 columns]\n"
          ]
        }
      ],
      "source": [
        "import pandas as pd\n",
        "\n",
        "housing_df = pd.read_csv('/content/sample_data/california_housing_train.csv')\n",
        "\n",
        "print('housing 변수 type : ',type(housing_df),'\\n')\n",
        "print(housing_df)"
      ]
    },
    {
      "cell_type": "markdown",
      "source": [
        "##데이터 확인"
      ],
      "metadata": {
        "id": "3-lbRF6msr96"
      }
    },
    {
      "cell_type": "code",
      "source": [
        "print(\"DataFrame 크기 : \", housing_df.shape,'\\n')\n",
        "print(housing_df.head(5))"
      ],
      "metadata": {
        "colab": {
          "base_uri": "https://localhost:8080/"
        },
        "id": "DHFJIT3uUFm8",
        "outputId": "c26000b0-f234-4fbd-f2f5-3fad875bf778"
      },
      "execution_count": null,
      "outputs": [
        {
          "output_type": "stream",
          "name": "stdout",
          "text": [
            "DataFrame 크기 :  (17000, 9) \n",
            "\n",
            "   longitude  latitude  housing_median_age  total_rooms  total_bedrooms  \\\n",
            "0    -114.31     34.19                15.0       5612.0          1283.0   \n",
            "1    -114.47     34.40                19.0       7650.0          1901.0   \n",
            "2    -114.56     33.69                17.0        720.0           174.0   \n",
            "3    -114.57     33.64                14.0       1501.0           337.0   \n",
            "4    -114.57     33.57                20.0       1454.0           326.0   \n",
            "\n",
            "   population  households  median_income  median_house_value  \n",
            "0      1015.0       472.0         1.4936             66900.0  \n",
            "1      1129.0       463.0         1.8200             80100.0  \n",
            "2       333.0       117.0         1.6509             85700.0  \n",
            "3       515.0       226.0         3.1917             73400.0  \n",
            "4       624.0       262.0         1.9250             65500.0  \n"
          ]
        }
      ]
    },
    {
      "cell_type": "code",
      "source": [
        "print(housing_df.info())"
      ],
      "metadata": {
        "colab": {
          "base_uri": "https://localhost:8080/"
        },
        "id": "uAXzmMtxWW7u",
        "outputId": "bbb33afe-8fd0-4569-86f0-d543a63c09c0"
      },
      "execution_count": null,
      "outputs": [
        {
          "output_type": "stream",
          "name": "stdout",
          "text": [
            "<class 'pandas.core.frame.DataFrame'>\n",
            "RangeIndex: 17000 entries, 0 to 16999\n",
            "Data columns (total 9 columns):\n",
            " #   Column              Non-Null Count  Dtype  \n",
            "---  ------              --------------  -----  \n",
            " 0   longitude           17000 non-null  float64\n",
            " 1   latitude            17000 non-null  float64\n",
            " 2   housing_median_age  17000 non-null  float64\n",
            " 3   total_rooms         17000 non-null  float64\n",
            " 4   total_bedrooms      17000 non-null  float64\n",
            " 5   population          17000 non-null  float64\n",
            " 6   households          17000 non-null  float64\n",
            " 7   median_income       17000 non-null  float64\n",
            " 8   median_house_value  17000 non-null  float64\n",
            "dtypes: float64(9)\n",
            "memory usage: 1.2 MB\n",
            "None\n"
          ]
        }
      ]
    },
    {
      "cell_type": "code",
      "source": [
        "print(housing_df.loc[housing_df['housing_median_age']==30,['housing_median_age','total_bedrooms']].head(3))"
      ],
      "metadata": {
        "colab": {
          "base_uri": "https://localhost:8080/"
        },
        "id": "l_GbDFpNWfh-",
        "outputId": "ad886dd7-801c-4d5b-f877-40823f2d946a"
      },
      "execution_count": null,
      "outputs": [
        {
          "output_type": "stream",
          "name": "stdout",
          "text": [
            "     housing_median_age  total_bedrooms\n",
            "26                 30.0           322.0\n",
            "50                 30.0           136.0\n",
            "101                30.0           177.0\n"
          ]
        }
      ]
    },
    {
      "cell_type": "code",
      "source": [
        "housing_groupby = housing_df.groupby('housing_median_age').mean()\n",
        "print(housing_groupby.head(5))"
      ],
      "metadata": {
        "colab": {
          "base_uri": "https://localhost:8080/"
        },
        "id": "4BHvdnxn8aVZ",
        "outputId": "4728bf12-c725-42e0-db0e-22bbf31b2e7a"
      },
      "execution_count": null,
      "outputs": [
        {
          "output_type": "stream",
          "name": "stdout",
          "text": [
            "                     longitude   latitude  total_rooms  total_bedrooms  \\\n",
            "housing_median_age                                                       \n",
            "1.0                -121.465000  37.940000  2158.000000      335.500000   \n",
            "2.0                -119.035306  35.410816  5237.102041      871.448980   \n",
            "3.0                -118.798478  35.164783  6920.326087     1190.826087   \n",
            "4.0                -118.805093  34.987764  6065.614907     1068.192547   \n",
            "5.0                -118.789497  35.095327  4926.261307      910.924623   \n",
            "\n",
            "                     population   households  median_income  \\\n",
            "housing_median_age                                            \n",
            "1.0                  637.000000   190.000000       4.756800   \n",
            "2.0                 2005.224490   707.122449       5.074237   \n",
            "3.0                 2934.673913  1030.413043       5.572013   \n",
            "4.0                 2739.956522   964.291925       5.196055   \n",
            "5.0                 2456.979899   826.768844       4.732460   \n",
            "\n",
            "                    median_house_value  \n",
            "housing_median_age                      \n",
            "1.0                      190250.000000  \n",
            "2.0                      229438.836735  \n",
            "3.0                      239450.043478  \n",
            "4.0                      230054.105590  \n",
            "5.0                      211035.708543  \n"
          ]
        }
      ]
    },
    {
      "cell_type": "code",
      "source": [
        "housing_groupby = housing_df.groupby('housing_median_age')[['total_rooms','total_bedrooms']].mean()\n",
        "print(housing_groupby.head(3))"
      ],
      "metadata": {
        "colab": {
          "base_uri": "https://localhost:8080/"
        },
        "id": "boBOhFtLEAeU",
        "outputId": "4ad37a76-acaf-4495-dd5e-5d1b64468bf1"
      },
      "execution_count": null,
      "outputs": [
        {
          "output_type": "stream",
          "name": "stdout",
          "text": [
            "                    total_rooms  total_bedrooms\n",
            "housing_median_age                             \n",
            "1.0                 2158.000000      335.500000\n",
            "2.0                 5237.102041      871.448980\n",
            "3.0                 6920.326087     1190.826087\n"
          ]
        }
      ]
    },
    {
      "cell_type": "code",
      "source": [
        "housing_groupby = housing_df.groupby('housing_median_age')[['total_rooms','total_bedrooms']].agg(['min','max','mean','sum'])\n",
        "print(housing_groupby.head(5))"
      ],
      "metadata": {
        "colab": {
          "base_uri": "https://localhost:8080/"
        },
        "id": "haosUuPoEbI-",
        "outputId": "1d937b0e-dd83-44f1-ab7f-9f561b0ef7ce"
      },
      "execution_count": null,
      "outputs": [
        {
          "output_type": "stream",
          "name": "stdout",
          "text": [
            "                   total_rooms                                 total_bedrooms  \\\n",
            "                           min      max         mean       sum            min   \n",
            "housing_median_age                                                              \n",
            "1.0                     2062.0   2254.0  2158.000000    4316.0          328.0   \n",
            "2.0                       96.0  21897.0  5237.102041  256618.0           18.0   \n",
            "3.0                      475.0  21060.0  6920.326087  318335.0          115.0   \n",
            "4.0                        2.0  37937.0  6065.614907  976564.0            2.0   \n",
            "5.0                      111.0  25187.0  4926.261307  980326.0           21.0   \n",
            "\n",
            "                                                   \n",
            "                       max         mean       sum  \n",
            "housing_median_age                                 \n",
            "1.0                  343.0   335.500000     671.0  \n",
            "2.0                 3513.0   871.448980   42701.0  \n",
            "3.0                 3559.0  1190.826087   54778.0  \n",
            "4.0                 5471.0  1068.192547  171979.0  \n",
            "5.0                 4386.0   910.924623  181274.0  \n"
          ]
        }
      ]
    },
    {
      "cell_type": "code",
      "source": [
        "import numpy as np\n",
        "housing_df['Age_na']=np.nan\n",
        "print(housing_df.isna().head())"
      ],
      "metadata": {
        "colab": {
          "base_uri": "https://localhost:8080/"
        },
        "id": "egsqQyq1GIvS",
        "outputId": "a6fcd554-1467-4af3-a4a3-706c1f5da94f"
      },
      "execution_count": null,
      "outputs": [
        {
          "output_type": "stream",
          "name": "stdout",
          "text": [
            "   longitude  latitude  housing_median_age  total_rooms  total_bedrooms  \\\n",
            "0      False     False               False        False           False   \n",
            "1      False     False               False        False           False   \n",
            "2      False     False               False        False           False   \n",
            "3      False     False               False        False           False   \n",
            "4      False     False               False        False           False   \n",
            "\n",
            "   population  households  median_income  median_house_value  Age_na  \n",
            "0       False       False          False               False    True  \n",
            "1       False       False          False               False    True  \n",
            "2       False       False          False               False    True  \n",
            "3       False       False          False               False    True  \n",
            "4       False       False          False               False    True  \n"
          ]
        }
      ]
    },
    {
      "cell_type": "code",
      "source": [
        "print(housing_df.isna().sum())"
      ],
      "metadata": {
        "colab": {
          "base_uri": "https://localhost:8080/"
        },
        "id": "_1zvMxPwWHPL",
        "outputId": "74427a74-6d49-42f4-f8b4-9edd28a9f6ed"
      },
      "execution_count": null,
      "outputs": [
        {
          "output_type": "stream",
          "name": "stdout",
          "text": [
            "longitude                 0\n",
            "latitude                  0\n",
            "housing_median_age        0\n",
            "total_rooms               0\n",
            "total_bedrooms            0\n",
            "population                0\n",
            "households                0\n",
            "median_income             0\n",
            "median_house_value        0\n",
            "Age_na                17000\n",
            "dtype: int64\n"
          ]
        }
      ]
    },
    {
      "cell_type": "code",
      "source": [
        "housing_df['Age_na']=housing_df['Age_na'].fillna(housing_df['housing_median_age'].mean())\n",
        "print(housing_df.head())"
      ],
      "metadata": {
        "colab": {
          "base_uri": "https://localhost:8080/"
        },
        "id": "i4u83QHwXQiF",
        "outputId": "ecc85e4c-60fa-4a99-e787-845d9989cc43"
      },
      "execution_count": null,
      "outputs": [
        {
          "output_type": "stream",
          "name": "stdout",
          "text": [
            "   longitude  latitude  housing_median_age  total_rooms  total_bedrooms  \\\n",
            "0    -114.31     34.19                15.0       5612.0          1283.0   \n",
            "1    -114.47     34.40                19.0       7650.0          1901.0   \n",
            "2    -114.56     33.69                17.0        720.0           174.0   \n",
            "3    -114.57     33.64                14.0       1501.0           337.0   \n",
            "4    -114.57     33.57                20.0       1454.0           326.0   \n",
            "\n",
            "   population  households  median_income  median_house_value     Age_na  \n",
            "0      1015.0       472.0         1.4936             66900.0  28.589353  \n",
            "1      1129.0       463.0         1.8200             80100.0  28.589353  \n",
            "2       333.0       117.0         1.6509             85700.0  28.589353  \n",
            "3       515.0       226.0         3.1917             73400.0  28.589353  \n",
            "4       624.0       262.0         1.9250             65500.0  28.589353  \n"
          ]
        }
      ]
    },
    {
      "cell_type": "markdown",
      "source": [
        "#scikit-learn"
      ],
      "metadata": {
        "id": "ctNHOvMds1xN"
      }
    },
    {
      "cell_type": "code",
      "source": [
        "import sklearn\n",
        "print(sklearn.__version__)"
      ],
      "metadata": {
        "colab": {
          "base_uri": "https://localhost:8080/"
        },
        "id": "hP3qZ33LXen9",
        "outputId": "6cac8fed-c874-4af5-eb1a-f00d6753186d"
      },
      "execution_count": null,
      "outputs": [
        {
          "output_type": "stream",
          "name": "stdout",
          "text": [
            "1.2.2\n"
          ]
        }
      ]
    },
    {
      "cell_type": "markdown",
      "source": [
        "##데이터 불러오기"
      ],
      "metadata": {
        "id": "Lpb5m4ektCsH"
      }
    },
    {
      "cell_type": "code",
      "source": [
        "#모델학습을 위한 fit 함수와 예측을 위한 predict 함수를 제공\n",
        "#학습/테스트 데이터 분학, 데이터 전처리, 모델 구현, 하이퍼파라미터 조정, 모델 최종 결정, 성능 평가\n",
        "\n",
        "from sklearn.datasets import load_iris\n",
        "\n",
        "iris = load_iris()\n",
        "print('붓꽃 데이터세트 타입 : ',type(iris))\n",
        "\n",
        "keys = iris.keys()\n",
        "print('붗꽃 데이터세트 키 : ',keys)"
      ],
      "metadata": {
        "colab": {
          "base_uri": "https://localhost:8080/"
        },
        "id": "nYzJV5-MgLdF",
        "outputId": "5150ee45-fb91-4119-f1b7-1f84122c6f30"
      },
      "execution_count": null,
      "outputs": [
        {
          "output_type": "stream",
          "name": "stdout",
          "text": [
            "붓꽃 데이터세트 타입 :  <class 'sklearn.utils._bunch.Bunch'>\n",
            "붗꽃 데이터세트 키 :  dict_keys(['data', 'target', 'frame', 'target_names', 'DESCR', 'feature_names', 'filename', 'data_module'])\n"
          ]
        }
      ]
    },
    {
      "cell_type": "markdown",
      "source": [
        "##데이터프레임으로 변환"
      ],
      "metadata": {
        "id": "jLNir6z-s7Gb"
      }
    },
    {
      "cell_type": "code",
      "source": [
        "import pandas as pd\n",
        "\n",
        "iris_df=pd.DataFrame(data=iris.data,columns=iris.feature_names)\n",
        "iris_df['label']=iris.target #label이라는 column 추가 value는 iris의 target\n",
        "print(iris_df.head())"
      ],
      "metadata": {
        "colab": {
          "base_uri": "https://localhost:8080/"
        },
        "id": "n6DNXwCXroWw",
        "outputId": "3debe2f8-2391-4717-f9e7-4f30942f8df3"
      },
      "execution_count": null,
      "outputs": [
        {
          "output_type": "stream",
          "name": "stdout",
          "text": [
            "   sepal length (cm)  sepal width (cm)  petal length (cm)  petal width (cm)  \\\n",
            "0                5.1               3.5                1.4               0.2   \n",
            "1                4.9               3.0                1.4               0.2   \n",
            "2                4.7               3.2                1.3               0.2   \n",
            "3                4.6               3.1                1.5               0.2   \n",
            "4                5.0               3.6                1.4               0.2   \n",
            "\n",
            "   label  \n",
            "0      0  \n",
            "1      0  \n",
            "2      0  \n",
            "3      0  \n",
            "4      0  \n"
          ]
        }
      ]
    },
    {
      "cell_type": "markdown",
      "source": [
        "##학습 데이터, 테스트 데이터 분리"
      ],
      "metadata": {
        "id": "US_I2wjetF6m"
      }
    },
    {
      "cell_type": "code",
      "source": [
        "#학습용 데이터와 테스트 데이터 분리하기\n",
        "from  sklearn.model_selection import train_test_split\n",
        "\n",
        "iris_data = iris.data #데이터\n",
        "iris_label = iris.target #예측하려는 값\n",
        "\n",
        "x_train,x_test,y_train,y_test = train_test_split(iris_data,iris_label,test_size=0.2,random_state=11)\n",
        "\n",
        "print('train dataset')\n",
        "print('x_train dataset : ',len(x_train))\n",
        "print('y_train dataset : ',len(y_train))\n",
        "print('\\n')\n",
        "print('test dataset')\n",
        "print('x_test dataset : ',len(x_test))\n",
        "print('y_test dataset : ',len(y_test))\n"
      ],
      "metadata": {
        "colab": {
          "base_uri": "https://localhost:8080/"
        },
        "id": "PeMwI1J8sapR",
        "outputId": "b8d3292b-45bf-4d10-d9a1-a358cfef396b"
      },
      "execution_count": null,
      "outputs": [
        {
          "output_type": "stream",
          "name": "stdout",
          "text": [
            "train dataset\n",
            "x_train dataset :  120\n",
            "y_train dataset :  120\n",
            "\n",
            "\n",
            "test dataset\n",
            "x_test dataset :  30\n",
            "y_test dataset :  30\n"
          ]
        }
      ]
    },
    {
      "cell_type": "markdown",
      "source": [
        "##의사결정 트리 이용하여 분류 예측"
      ],
      "metadata": {
        "id": "UPIOkDAsuY6b"
      }
    },
    {
      "cell_type": "code",
      "source": [
        "from sklearn.tree import DecisionTreeClassifier\n",
        "\n",
        "dt_clf=DecisionTreeClassifier(random_state=11)  #의사결정트리클래스 DecisionTreeClassifier를 객체로 생성\n",
        "dt_clf.fit(x_train,y_train) #모델학습을 위한 fit 함수 사용, 학습 데이터 x_train과 y_train 호출"
      ],
      "metadata": {
        "colab": {
          "base_uri": "https://localhost:8080/",
          "height": 74
        },
        "id": "u3Arh-AKuYJs",
        "outputId": "4aba7156-e59b-402f-ec1e-3a56a79b564b"
      },
      "execution_count": null,
      "outputs": [
        {
          "output_type": "execute_result",
          "data": {
            "text/plain": [
              "DecisionTreeClassifier(random_state=11)"
            ],
            "text/html": [
              "<style>#sk-container-id-1 {color: black;background-color: white;}#sk-container-id-1 pre{padding: 0;}#sk-container-id-1 div.sk-toggleable {background-color: white;}#sk-container-id-1 label.sk-toggleable__label {cursor: pointer;display: block;width: 100%;margin-bottom: 0;padding: 0.3em;box-sizing: border-box;text-align: center;}#sk-container-id-1 label.sk-toggleable__label-arrow:before {content: \"▸\";float: left;margin-right: 0.25em;color: #696969;}#sk-container-id-1 label.sk-toggleable__label-arrow:hover:before {color: black;}#sk-container-id-1 div.sk-estimator:hover label.sk-toggleable__label-arrow:before {color: black;}#sk-container-id-1 div.sk-toggleable__content {max-height: 0;max-width: 0;overflow: hidden;text-align: left;background-color: #f0f8ff;}#sk-container-id-1 div.sk-toggleable__content pre {margin: 0.2em;color: black;border-radius: 0.25em;background-color: #f0f8ff;}#sk-container-id-1 input.sk-toggleable__control:checked~div.sk-toggleable__content {max-height: 200px;max-width: 100%;overflow: auto;}#sk-container-id-1 input.sk-toggleable__control:checked~label.sk-toggleable__label-arrow:before {content: \"▾\";}#sk-container-id-1 div.sk-estimator input.sk-toggleable__control:checked~label.sk-toggleable__label {background-color: #d4ebff;}#sk-container-id-1 div.sk-label input.sk-toggleable__control:checked~label.sk-toggleable__label {background-color: #d4ebff;}#sk-container-id-1 input.sk-hidden--visually {border: 0;clip: rect(1px 1px 1px 1px);clip: rect(1px, 1px, 1px, 1px);height: 1px;margin: -1px;overflow: hidden;padding: 0;position: absolute;width: 1px;}#sk-container-id-1 div.sk-estimator {font-family: monospace;background-color: #f0f8ff;border: 1px dotted black;border-radius: 0.25em;box-sizing: border-box;margin-bottom: 0.5em;}#sk-container-id-1 div.sk-estimator:hover {background-color: #d4ebff;}#sk-container-id-1 div.sk-parallel-item::after {content: \"\";width: 100%;border-bottom: 1px solid gray;flex-grow: 1;}#sk-container-id-1 div.sk-label:hover label.sk-toggleable__label {background-color: #d4ebff;}#sk-container-id-1 div.sk-serial::before {content: \"\";position: absolute;border-left: 1px solid gray;box-sizing: border-box;top: 0;bottom: 0;left: 50%;z-index: 0;}#sk-container-id-1 div.sk-serial {display: flex;flex-direction: column;align-items: center;background-color: white;padding-right: 0.2em;padding-left: 0.2em;position: relative;}#sk-container-id-1 div.sk-item {position: relative;z-index: 1;}#sk-container-id-1 div.sk-parallel {display: flex;align-items: stretch;justify-content: center;background-color: white;position: relative;}#sk-container-id-1 div.sk-item::before, #sk-container-id-1 div.sk-parallel-item::before {content: \"\";position: absolute;border-left: 1px solid gray;box-sizing: border-box;top: 0;bottom: 0;left: 50%;z-index: -1;}#sk-container-id-1 div.sk-parallel-item {display: flex;flex-direction: column;z-index: 1;position: relative;background-color: white;}#sk-container-id-1 div.sk-parallel-item:first-child::after {align-self: flex-end;width: 50%;}#sk-container-id-1 div.sk-parallel-item:last-child::after {align-self: flex-start;width: 50%;}#sk-container-id-1 div.sk-parallel-item:only-child::after {width: 0;}#sk-container-id-1 div.sk-dashed-wrapped {border: 1px dashed gray;margin: 0 0.4em 0.5em 0.4em;box-sizing: border-box;padding-bottom: 0.4em;background-color: white;}#sk-container-id-1 div.sk-label label {font-family: monospace;font-weight: bold;display: inline-block;line-height: 1.2em;}#sk-container-id-1 div.sk-label-container {text-align: center;}#sk-container-id-1 div.sk-container {/* jupyter's `normalize.less` sets `[hidden] { display: none; }` but bootstrap.min.css set `[hidden] { display: none !important; }` so we also need the `!important` here to be able to override the default hidden behavior on the sphinx rendered scikit-learn.org. See: https://github.com/scikit-learn/scikit-learn/issues/21755 */display: inline-block !important;position: relative;}#sk-container-id-1 div.sk-text-repr-fallback {display: none;}</style><div id=\"sk-container-id-1\" class=\"sk-top-container\"><div class=\"sk-text-repr-fallback\"><pre>DecisionTreeClassifier(random_state=11)</pre><b>In a Jupyter environment, please rerun this cell to show the HTML representation or trust the notebook. <br />On GitHub, the HTML representation is unable to render, please try loading this page with nbviewer.org.</b></div><div class=\"sk-container\" hidden><div class=\"sk-item\"><div class=\"sk-estimator sk-toggleable\"><input class=\"sk-toggleable__control sk-hidden--visually\" id=\"sk-estimator-id-1\" type=\"checkbox\" checked><label for=\"sk-estimator-id-1\" class=\"sk-toggleable__label sk-toggleable__label-arrow\">DecisionTreeClassifier</label><div class=\"sk-toggleable__content\"><pre>DecisionTreeClassifier(random_state=11)</pre></div></div></div></div></div>"
            ]
          },
          "metadata": {},
          "execution_count": 16
        }
      ]
    },
    {
      "cell_type": "code",
      "source": [
        "from sklearn.metrics import accuracy_score\n",
        "\n",
        "pred = dt_clf.predict(x_test) #예측을 위한 predict 함수 사용, x_test 값에 대한 예측\n",
        "ac_score = accuracy_score(y_test,pred) #y_test값과 pred값에 대한 정확도 측정 (타겟 데이터셋, 예측 데이터셋)\n",
        "\n",
        "print(\"예측 정확도 : \",ac_score)"
      ],
      "metadata": {
        "colab": {
          "base_uri": "https://localhost:8080/"
        },
        "id": "b0uPrImCuL4T",
        "outputId": "648cdcfa-7dec-4777-81f8-807b18ad5553"
      },
      "execution_count": null,
      "outputs": [
        {
          "output_type": "stream",
          "name": "stdout",
          "text": [
            "예측 정확도 :  0.9333333333333333\n"
          ]
        }
      ]
    },
    {
      "cell_type": "markdown",
      "source": [
        "##scikit-learn 데이터 전처리\n",
        "- 결측치가 허용되지 않음 -> 삭제, 대체\n",
        "- 문자열 허용되지 않음 -> 인코딩"
      ],
      "metadata": {
        "id": "hYvocMI6w6tG"
      }
    },
    {
      "cell_type": "markdown",
      "source": [
        "###인코딩-레이블 인코딩\n",
        "- 명목형 변수를 코드형 숫자 값으로 변환하는 것\n",
        "- ex) 냉장고, tv, 전자레인지 <br>-> 냉장고 : 1, tv : 2, 전자레인지 : 3\n",
        "<br>\n",
        "<br>\n",
        "***\n",
        "<br>\n",
        "\n",
        "- 숫자의 크기에 따라 가중치가 작용할 수 있어 선형회귀에는 사용이 적절치 않음<br>\n",
        "- 트리 계열의 알고리즘의 경우 숫자에 따른 가중치 특성을 반영하지 않으므로 영향이 없음"
      ],
      "metadata": {
        "id": "fPgnA8kAxTYi"
      }
    },
    {
      "cell_type": "code",
      "source": [
        "from sklearn.preprocessing import LabelEncoder\n",
        "\n",
        "items = ['TV','냉장고','전자레인지','컴퓨터','TV','냉장고','컴퓨터','컴퓨터','청소기']\n",
        "\n",
        "encoder = LabelEncoder()\n",
        "encoder.fit(items) \n",
        "#fit()은 데이터 변환을 위한 기준 정보를 설정 (ex. data의 max/min 값 설정 등을 적용)\n",
        "labels=encoder.transform(items)\n",
        "# transform()은 설정된 정보를 이용해 데이터를 변환\n",
        "\n",
        "print('인코딩 변환값 : ',labels)\n",
        "print('인코딩 클래스 : ',encoder.classes_)"
      ],
      "metadata": {
        "colab": {
          "base_uri": "https://localhost:8080/"
        },
        "id": "nRXdilO4vmYy",
        "outputId": "7435aa76-fbaf-4192-aad1-c8dc1afce378"
      },
      "execution_count": null,
      "outputs": [
        {
          "output_type": "stream",
          "name": "stdout",
          "text": [
            "인코딩 변환값 :  [0 1 2 4 0 1 4 4 3]\n",
            "인코딩 클래스 :  ['TV' '냉장고' '전자레인지' '청소기' '컴퓨터']\n"
          ]
        }
      ]
    },
    {
      "cell_type": "code",
      "source": [
        "from sklearn.preprocessing import LabelEncoder\n",
        "\n",
        "items = ['ㅇ','ㅂ','ㅂ','ㅇ','ㅅ','ㅁ','ㅇ','ㅁ']\n",
        "\n",
        "encoder = LabelEncoder()\n",
        "encoder.fit(items)\n",
        "labels = encoder.transform(items)\n",
        "\n",
        "print(labels)\n",
        "print(encoder.classes_)"
      ],
      "metadata": {
        "colab": {
          "base_uri": "https://localhost:8080/"
        },
        "id": "VLbW-9j8ybF8",
        "outputId": "c9f6657b-f54a-4387-f32a-976cce09f8b0"
      },
      "execution_count": null,
      "outputs": [
        {
          "output_type": "stream",
          "name": "stdout",
          "text": [
            "[3 1 1 3 2 0 3 0]\n",
            "['ㅁ' 'ㅂ' 'ㅅ' 'ㅇ']\n"
          ]
        }
      ]
    },
    {
      "cell_type": "code",
      "source": [
        "#디코딩\n",
        "origins = encoder.inverse_transform(labels)\n",
        "print('디코딩 원본값 : ',origins)"
      ],
      "metadata": {
        "colab": {
          "base_uri": "https://localhost:8080/"
        },
        "id": "HcBCmxJzzjaS",
        "outputId": "b0fe369b-4db3-4911-f504-94ce800a1454"
      },
      "execution_count": null,
      "outputs": [
        {
          "output_type": "stream",
          "name": "stdout",
          "text": [
            "디코딩 원본값 :  ['ㅇ' 'ㅂ' 'ㅂ' 'ㅇ' 'ㅅ' 'ㅁ' 'ㅇ' 'ㅁ']\n"
          ]
        }
      ]
    },
    {
      "cell_type": "markdown",
      "source": [
        "###원-핫 인코딩\n",
        "- 변수 값의 유형에 따라 새로운 변수를 추가해 고윳값에 해당하는 컬럼에만 1을 표시\n",
        "- 상품분류 column에 냉장고 data -> 상품분류_냉장고에 1표시\n",
        "<br>\n",
        "<br>\n",
        "***\n",
        "<br>\n",
        "\n",
        "- 모든 문자열 값이 숫자형 값으로 변환되어야 함<br>\n",
        "- 입력 값으로 2차원 데이터가 필요함"
      ],
      "metadata": {
        "id": "T2K0sm7bzhYt"
      }
    },
    {
      "cell_type": "code",
      "source": [
        "'''from sklearn.preprocessing import LabelEncoder\n",
        "\n",
        "items = ['ㅇ','ㅂ','ㅂ','ㅇ','ㅅ','ㅁ','ㅇ','ㅁ']\n",
        "\n",
        "encoder = LabelEncoder()\n",
        "encoder.fit(items)\n",
        "labels = encoder.transform(items)'''\n",
        "print(labels)"
      ],
      "metadata": {
        "id": "dAr0-NUP1NJX",
        "colab": {
          "base_uri": "https://localhost:8080/"
        },
        "outputId": "c95e7210-9fe1-4ea2-d300-0c0da6876e2f"
      },
      "execution_count": null,
      "outputs": [
        {
          "output_type": "stream",
          "name": "stdout",
          "text": [
            "[3 1 1 3 2 0 3 0]\n"
          ]
        }
      ]
    },
    {
      "cell_type": "code",
      "source": [
        "from sklearn.preprocessing import OneHotEncoder\n",
        "import numpy as np\n",
        "\n",
        "labels=labels.reshape(-1,1) #1열, 남은 배열의 길이와 남은 차원에 따라 행 유동적으로 조정\n",
        "\n",
        "oh_encoder = OneHotEncoder() #객체 생성\n",
        "oh_encoder.fit(labels)\n",
        "oh_labels=oh_encoder.transform(labels)\n",
        "\n",
        "print('원핫 인코딩 데이터')\n",
        "print(oh_labels.toarray())\n",
        "print(\"\\n\")\n",
        "print('원핫 인코딩 데이터 차원')\n",
        "print(oh_labels.shape)\n"
      ],
      "metadata": {
        "colab": {
          "base_uri": "https://localhost:8080/"
        },
        "id": "fhrhMZC-HCdH",
        "outputId": "304f29a5-1486-49ee-eaf1-4d62965a4d61"
      },
      "execution_count": null,
      "outputs": [
        {
          "output_type": "stream",
          "name": "stdout",
          "text": [
            "원핫 인코딩 데이터\n",
            "[[0. 0. 0. 1.]\n",
            " [0. 1. 0. 0.]\n",
            " [0. 1. 0. 0.]\n",
            " [0. 0. 0. 1.]\n",
            " [0. 0. 1. 0.]\n",
            " [1. 0. 0. 0.]\n",
            " [0. 0. 0. 1.]\n",
            " [1. 0. 0. 0.]]\n",
            "\n",
            "\n",
            "원핫 인코딩 데이터 차원\n",
            "(8, 4)\n"
          ]
        }
      ]
    },
    {
      "cell_type": "markdown",
      "source": [
        "####pandas get_dummies\n",
        "scikit-learn의 OneHotEncorder와 다르게 명목형 데이터를 숫자형으로 변환할 필요 없이<br> 바로 2차원 데이터로 변환하여 인코딩을 수행할 수 있음"
      ],
      "metadata": {
        "id": "qOMs_EmwSEuD"
      }
    },
    {
      "cell_type": "code",
      "source": [
        "print(items)\n",
        "import pandas as pd\n",
        "\n",
        "item_df = pd.DataFrame({'item':items})\n",
        "print(item_df)"
      ],
      "metadata": {
        "colab": {
          "base_uri": "https://localhost:8080/"
        },
        "id": "dfnZ-Jd9QomY",
        "outputId": "d2d2a18b-5db5-4dae-ea5b-4908fed5a65d"
      },
      "execution_count": null,
      "outputs": [
        {
          "output_type": "stream",
          "name": "stdout",
          "text": [
            "['ㅇ', 'ㅂ', 'ㅂ', 'ㅇ', 'ㅅ', 'ㅁ', 'ㅇ', 'ㅁ']\n",
            "  item\n",
            "0    ㅇ\n",
            "1    ㅂ\n",
            "2    ㅂ\n",
            "3    ㅇ\n",
            "4    ㅅ\n",
            "5    ㅁ\n",
            "6    ㅇ\n",
            "7    ㅁ\n"
          ]
        }
      ]
    },
    {
      "cell_type": "code",
      "source": [
        "pd.get_dummies(item_df)"
      ],
      "metadata": {
        "colab": {
          "base_uri": "https://localhost:8080/",
          "height": 300
        },
        "id": "8Pl4tQ56SsBd",
        "outputId": "af4b0565-7baa-41cd-de8b-8f0a2e153ec2"
      },
      "execution_count": null,
      "outputs": [
        {
          "output_type": "execute_result",
          "data": {
            "text/plain": [
              "   item_ㅁ  item_ㅂ  item_ㅅ  item_ㅇ\n",
              "0       0       0       0       1\n",
              "1       0       1       0       0\n",
              "2       0       1       0       0\n",
              "3       0       0       0       1\n",
              "4       0       0       1       0\n",
              "5       1       0       0       0\n",
              "6       0       0       0       1\n",
              "7       1       0       0       0"
            ],
            "text/html": [
              "\n",
              "  <div id=\"df-94007744-78df-4243-837d-a41d2f341032\">\n",
              "    <div class=\"colab-df-container\">\n",
              "      <div>\n",
              "<style scoped>\n",
              "    .dataframe tbody tr th:only-of-type {\n",
              "        vertical-align: middle;\n",
              "    }\n",
              "\n",
              "    .dataframe tbody tr th {\n",
              "        vertical-align: top;\n",
              "    }\n",
              "\n",
              "    .dataframe thead th {\n",
              "        text-align: right;\n",
              "    }\n",
              "</style>\n",
              "<table border=\"1\" class=\"dataframe\">\n",
              "  <thead>\n",
              "    <tr style=\"text-align: right;\">\n",
              "      <th></th>\n",
              "      <th>item_ㅁ</th>\n",
              "      <th>item_ㅂ</th>\n",
              "      <th>item_ㅅ</th>\n",
              "      <th>item_ㅇ</th>\n",
              "    </tr>\n",
              "  </thead>\n",
              "  <tbody>\n",
              "    <tr>\n",
              "      <th>0</th>\n",
              "      <td>0</td>\n",
              "      <td>0</td>\n",
              "      <td>0</td>\n",
              "      <td>1</td>\n",
              "    </tr>\n",
              "    <tr>\n",
              "      <th>1</th>\n",
              "      <td>0</td>\n",
              "      <td>1</td>\n",
              "      <td>0</td>\n",
              "      <td>0</td>\n",
              "    </tr>\n",
              "    <tr>\n",
              "      <th>2</th>\n",
              "      <td>0</td>\n",
              "      <td>1</td>\n",
              "      <td>0</td>\n",
              "      <td>0</td>\n",
              "    </tr>\n",
              "    <tr>\n",
              "      <th>3</th>\n",
              "      <td>0</td>\n",
              "      <td>0</td>\n",
              "      <td>0</td>\n",
              "      <td>1</td>\n",
              "    </tr>\n",
              "    <tr>\n",
              "      <th>4</th>\n",
              "      <td>0</td>\n",
              "      <td>0</td>\n",
              "      <td>1</td>\n",
              "      <td>0</td>\n",
              "    </tr>\n",
              "    <tr>\n",
              "      <th>5</th>\n",
              "      <td>1</td>\n",
              "      <td>0</td>\n",
              "      <td>0</td>\n",
              "      <td>0</td>\n",
              "    </tr>\n",
              "    <tr>\n",
              "      <th>6</th>\n",
              "      <td>0</td>\n",
              "      <td>0</td>\n",
              "      <td>0</td>\n",
              "      <td>1</td>\n",
              "    </tr>\n",
              "    <tr>\n",
              "      <th>7</th>\n",
              "      <td>1</td>\n",
              "      <td>0</td>\n",
              "      <td>0</td>\n",
              "      <td>0</td>\n",
              "    </tr>\n",
              "  </tbody>\n",
              "</table>\n",
              "</div>\n",
              "      <button class=\"colab-df-convert\" onclick=\"convertToInteractive('df-94007744-78df-4243-837d-a41d2f341032')\"\n",
              "              title=\"Convert this dataframe to an interactive table.\"\n",
              "              style=\"display:none;\">\n",
              "        \n",
              "  <svg xmlns=\"http://www.w3.org/2000/svg\" height=\"24px\"viewBox=\"0 0 24 24\"\n",
              "       width=\"24px\">\n",
              "    <path d=\"M0 0h24v24H0V0z\" fill=\"none\"/>\n",
              "    <path d=\"M18.56 5.44l.94 2.06.94-2.06 2.06-.94-2.06-.94-.94-2.06-.94 2.06-2.06.94zm-11 1L8.5 8.5l.94-2.06 2.06-.94-2.06-.94L8.5 2.5l-.94 2.06-2.06.94zm10 10l.94 2.06.94-2.06 2.06-.94-2.06-.94-.94-2.06-.94 2.06-2.06.94z\"/><path d=\"M17.41 7.96l-1.37-1.37c-.4-.4-.92-.59-1.43-.59-.52 0-1.04.2-1.43.59L10.3 9.45l-7.72 7.72c-.78.78-.78 2.05 0 2.83L4 21.41c.39.39.9.59 1.41.59.51 0 1.02-.2 1.41-.59l7.78-7.78 2.81-2.81c.8-.78.8-2.07 0-2.86zM5.41 20L4 18.59l7.72-7.72 1.47 1.35L5.41 20z\"/>\n",
              "  </svg>\n",
              "      </button>\n",
              "      \n",
              "  <style>\n",
              "    .colab-df-container {\n",
              "      display:flex;\n",
              "      flex-wrap:wrap;\n",
              "      gap: 12px;\n",
              "    }\n",
              "\n",
              "    .colab-df-convert {\n",
              "      background-color: #E8F0FE;\n",
              "      border: none;\n",
              "      border-radius: 50%;\n",
              "      cursor: pointer;\n",
              "      display: none;\n",
              "      fill: #1967D2;\n",
              "      height: 32px;\n",
              "      padding: 0 0 0 0;\n",
              "      width: 32px;\n",
              "    }\n",
              "\n",
              "    .colab-df-convert:hover {\n",
              "      background-color: #E2EBFA;\n",
              "      box-shadow: 0px 1px 2px rgba(60, 64, 67, 0.3), 0px 1px 3px 1px rgba(60, 64, 67, 0.15);\n",
              "      fill: #174EA6;\n",
              "    }\n",
              "\n",
              "    [theme=dark] .colab-df-convert {\n",
              "      background-color: #3B4455;\n",
              "      fill: #D2E3FC;\n",
              "    }\n",
              "\n",
              "    [theme=dark] .colab-df-convert:hover {\n",
              "      background-color: #434B5C;\n",
              "      box-shadow: 0px 1px 3px 1px rgba(0, 0, 0, 0.15);\n",
              "      filter: drop-shadow(0px 1px 2px rgba(0, 0, 0, 0.3));\n",
              "      fill: #FFFFFF;\n",
              "    }\n",
              "  </style>\n",
              "\n",
              "      <script>\n",
              "        const buttonEl =\n",
              "          document.querySelector('#df-94007744-78df-4243-837d-a41d2f341032 button.colab-df-convert');\n",
              "        buttonEl.style.display =\n",
              "          google.colab.kernel.accessAllowed ? 'block' : 'none';\n",
              "\n",
              "        async function convertToInteractive(key) {\n",
              "          const element = document.querySelector('#df-94007744-78df-4243-837d-a41d2f341032');\n",
              "          const dataTable =\n",
              "            await google.colab.kernel.invokeFunction('convertToInteractive',\n",
              "                                                     [key], {});\n",
              "          if (!dataTable) return;\n",
              "\n",
              "          const docLinkHtml = 'Like what you see? Visit the ' +\n",
              "            '<a target=\"_blank\" href=https://colab.research.google.com/notebooks/data_table.ipynb>data table notebook</a>'\n",
              "            + ' to learn more about interactive tables.';\n",
              "          element.innerHTML = '';\n",
              "          dataTable['output_type'] = 'display_data';\n",
              "          await google.colab.output.renderOutput(dataTable, element);\n",
              "          const docLink = document.createElement('div');\n",
              "          docLink.innerHTML = docLinkHtml;\n",
              "          element.appendChild(docLink);\n",
              "        }\n",
              "      </script>\n",
              "    </div>\n",
              "  </div>\n",
              "  "
            ]
          },
          "metadata": {},
          "execution_count": 27
        }
      ]
    },
    {
      "cell_type": "markdown",
      "source": [
        "###스케일링\n",
        "- 표준화<br>\n",
        "  - 원 데이터를 평균이 0이고 분산이 1인 정규 분포를 가진 값으로 변환<br>\n",
        "  - ![image.png](data:image/png;base64,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)<br>\n",
        "  <br>\n",
        "- 정규화\n",
        "  - 서로 다른 변수의 크기를 통일하기 위해 크기를 변환<br>\n",
        "  - 예시) 최대-최소 정규화<br>\n",
        "  ![image.png](data:image/png;base64,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)"
      ],
      "metadata": {
        "id": "FStwcK4sWppR"
      }
    },
    {
      "cell_type": "code",
      "source": [
        "#평균과 분산 확인하기\n",
        "from sklearn.datasets import load_iris\n",
        "import pandas as pd\n",
        "\n",
        "iris = load_iris()\n",
        "iris_data = iris.data\n",
        "iris_df = pd.DataFrame(data=iris_data,columns=iris.feature_names)\n",
        "\n",
        "print('feature 들의 평균 값 :')\n",
        "print(iris_df.mean(),'\\n')\n",
        "print('feature 들의 분산 값 :')\n",
        "print(iris_df.var())"
      ],
      "metadata": {
        "colab": {
          "base_uri": "https://localhost:8080/"
        },
        "id": "1XFl8iCVS4Oh",
        "outputId": "0eef41fc-d557-422d-d1e8-664c0b23cb0e"
      },
      "execution_count": null,
      "outputs": [
        {
          "output_type": "stream",
          "name": "stdout",
          "text": [
            "feature 들의 평균 값 :\n",
            "sepal length (cm)    5.843333\n",
            "sepal width (cm)     3.057333\n",
            "petal length (cm)    3.758000\n",
            "petal width (cm)     1.199333\n",
            "dtype: float64 \n",
            "\n",
            "feature 들의 분산 값 :\n",
            "sepal length (cm)    0.685694\n",
            "sepal width (cm)     0.189979\n",
            "petal length (cm)    3.116278\n",
            "petal width (cm)     0.581006\n",
            "dtype: float64\n"
          ]
        }
      ]
    },
    {
      "cell_type": "markdown",
      "source": [
        "####StandardScaler 표준화\n",
        "- 평균 0, 분산 1"
      ],
      "metadata": {
        "id": "nmZbtgBEkCE1"
      }
    },
    {
      "cell_type": "code",
      "source": [
        "from sklearn.preprocessing import StandardScaler #표준화를 위한 라이브러리 호출\n",
        "\n",
        "scaler = StandardScaler() #객체 생성\n",
        "scaler.fit(iris_df) \n",
        "iris_scaled = scaler.transform(iris_df)\n",
        "iris_df_scaled = pd.DataFrame(data=iris_scaled, columns=iris.feature_names)\n",
        "\n",
        "\n",
        "print('feature 들의 평균 값 :')\n",
        "print(iris_df_scaled.mean(),'\\n') #0에 가까운 값 출력\n",
        "print('feature 들의 분산 값 :')\n",
        "print(iris_df_scaled.var()) #1에 가까운 값 출력"
      ],
      "metadata": {
        "colab": {
          "base_uri": "https://localhost:8080/"
        },
        "id": "RrMUBkxTefHR",
        "outputId": "910cc69e-5509-405b-8545-857322647734"
      },
      "execution_count": null,
      "outputs": [
        {
          "output_type": "stream",
          "name": "stdout",
          "text": [
            "feature 들의 평균 값 :\n",
            "sepal length (cm)   -1.690315e-15\n",
            "sepal width (cm)    -1.842970e-15\n",
            "petal length (cm)   -1.698641e-15\n",
            "petal width (cm)    -1.409243e-15\n",
            "dtype: float64 \n",
            "\n",
            "feature 들의 분산 값 :\n",
            "sepal length (cm)    1.006711\n",
            "sepal width (cm)     1.006711\n",
            "petal length (cm)    1.006711\n",
            "petal width (cm)     1.006711\n",
            "dtype: float64\n"
          ]
        }
      ]
    },
    {
      "cell_type": "markdown",
      "source": [
        "####MinMaxScaler 정규화\n",
        "- 0과 1사이의 범위 값으로 변환"
      ],
      "metadata": {
        "id": "sYHgXrqLkJf3"
      }
    },
    {
      "cell_type": "code",
      "source": [
        "from sklearn.preprocessing import MinMaxScaler\n",
        "\n",
        "scaler = MinMaxScaler()\n",
        "scaler.fit(iris_df)\n",
        "iris_scaled = scaler.transform(iris_df)\n",
        "iris_df_scaled = pd.DataFrame(data=iris_scaled, columns=iris.feature_names)\n",
        "\n",
        "\n",
        "print('feature 들의 최소 값 :')\n",
        "print(iris_df_scaled.min(),'\\n') \n",
        "print('feature 들의 최대 값 :')\n",
        "print(iris_df_scaled.max()) "
      ],
      "metadata": {
        "colab": {
          "base_uri": "https://localhost:8080/"
        },
        "id": "O3mnvDeqgyv5",
        "outputId": "688e24dc-731d-4829-ca2f-b96254d40771"
      },
      "execution_count": null,
      "outputs": [
        {
          "output_type": "stream",
          "name": "stdout",
          "text": [
            "feature 들의 최소 값 :\n",
            "sepal length (cm)    0.0\n",
            "sepal width (cm)     0.0\n",
            "petal length (cm)    0.0\n",
            "petal width (cm)     0.0\n",
            "dtype: float64 \n",
            "\n",
            "feature 들의 최대 값 :\n",
            "sepal length (cm)    1.0\n",
            "sepal width (cm)     1.0\n",
            "petal length (cm)    1.0\n",
            "petal width (cm)     1.0\n",
            "dtype: float64\n"
          ]
        }
      ]
    },
    {
      "cell_type": "markdown",
      "source": [
        "###fit-transform 주의사항\n",
        "- 학습 데이터 셋에 fit을 적용하면 테스트 데이터에는 fit을 적용하면 안됨\n",
        "- 머신러닝 모델은 **학습 데이터를 기반으로 학습**되기 때문에 반드시 테스트 데이터는 학습 데이터의 스케일링 기준을 따라야 하기 때문"
      ],
      "metadata": {
        "id": "DI8xMyfvtkFf"
      }
    },
    {
      "cell_type": "code",
      "source": [
        "from sklearn.preprocessing import MinMaxScaler\n",
        "import numpy as np\n",
        "\n",
        "train_array = np.arange(0,11).reshape(-1,1)\n",
        "test_array = np.arange(0,6).reshape(-1,1)\n",
        "\n",
        "scaler = MinMaxScaler()\n",
        "scaler.fit(train_array) #train_array에 fit 적용 => 스케일링 기준 정보가 됨\n",
        "\n",
        "train_scaled = scaler.transform(train_array)\n",
        "test_scaled = scaler.transform(test_array)\n",
        "\n",
        "print('원본 train_array 데이터 :')\n",
        "#print(train_array.reshape(-1))\n",
        "print(np.round(train_array.reshape(-1),2),'\\n') #reshape(-1) => 1차원 배열 반환\n",
        "print('Scaled train_array 데이터 :')\n",
        "print(np.round(train_scaled.reshape(-1),2),'\\n') \n",
        "\n",
        "print('\\n')\n",
        "print('원본 test_array 데이터 :')\n",
        "#print(train_array.reshape(-1))\n",
        "print(np.round(test_array.reshape(-1),1),'\\n') #reshape(-1) => 1차원 배열 반환\n",
        "print('Scaled test_array 데이터 :')\n",
        "print(np.round(test_scaled.reshape(-1),1),'\\n') "
      ],
      "metadata": {
        "colab": {
          "base_uri": "https://localhost:8080/"
        },
        "id": "XQCe_en0tqzZ",
        "outputId": "9e4e7d1f-b640-4a60-9564-ce498804388c"
      },
      "execution_count": null,
      "outputs": [
        {
          "output_type": "stream",
          "name": "stdout",
          "text": [
            "원본 train_array 데이터 :\n",
            "[ 0  1  2  3  4  5  6  7  8  9 10] \n",
            "\n",
            "Scaled train_array 데이터 :\n",
            "[0.  0.1 0.2 0.3 0.4 0.5 0.6 0.7 0.8 0.9 1. ] \n",
            "\n",
            "\n",
            "\n",
            "원본 test_array 데이터 :\n",
            "[0 1 2 3 4 5] \n",
            "\n",
            "Scaled test_array 데이터 :\n",
            "[0.  0.1 0.2 0.3 0.4 0.5] \n",
            "\n"
          ]
        }
      ]
    },
    {
      "cell_type": "code",
      "source": [],
      "metadata": {
        "id": "beZeUHwi9kDg"
      },
      "execution_count": null,
      "outputs": []
    }
  ]
}