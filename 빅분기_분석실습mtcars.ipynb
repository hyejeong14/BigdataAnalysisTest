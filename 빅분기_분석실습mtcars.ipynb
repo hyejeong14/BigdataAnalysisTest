{
  "nbformat": 4,
  "nbformat_minor": 0,
  "metadata": {
    "colab": {
      "provenance": [],
      "authorship_tag": "ABX9TyOLGR2ye9rjAm0jE8CiVFI1",
      "include_colab_link": true
    },
    "kernelspec": {
      "name": "python3",
      "display_name": "Python 3"
    },
    "language_info": {
      "name": "python"
    }
  },
  "cells": [
    {
      "cell_type": "markdown",
      "metadata": {
        "id": "view-in-github",
        "colab_type": "text"
      },
      "source": [
        "<a href=\"https://colab.research.google.com/github/hyejeong14/BigdataAnalysisTest/blob/main/%EB%B9%85%EB%B6%84%EA%B8%B0_%EB%B6%84%EC%84%9D%EC%8B%A4%EC%8A%B5mtcars.ipynb\" target=\"_parent\"><img src=\"https://colab.research.google.com/assets/colab-badge.svg\" alt=\"Open In Colab\"/></a>"
      ]
    },
    {
      "cell_type": "markdown",
      "source": [
        "#데이터 로드"
      ],
      "metadata": {
        "id": "iGm3oASVWDgS"
      }
    },
    {
      "cell_type": "code",
      "execution_count": 1,
      "metadata": {
        "colab": {
          "base_uri": "https://localhost:8080/"
        },
        "id": "ZYWa2jumMrQi",
        "outputId": "46bde1b2-2038-4b8c-b667-998bc774c9aa"
      },
      "outputs": [
        {
          "output_type": "stream",
          "name": "stdout",
          "text": [
            "Cloning into 'yemoonsaBigdata'...\n",
            "remote: Enumerating objects: 632, done.\u001b[K\n",
            "remote: Counting objects: 100% (269/269), done.\u001b[K\n",
            "remote: Compressing objects: 100% (163/163), done.\u001b[K\n",
            "remote: Total 632 (delta 134), reused 180 (delta 106), pack-reused 363\u001b[K\n",
            "Receiving objects: 100% (632/632), 10.75 MiB | 21.01 MiB/s, done.\n",
            "Resolving deltas: 100% (319/319), done.\n"
          ]
        }
      ],
      "source": [
        "!git clone https://github.com/AnalyticsKnight/yemoonsaBigdata"
      ]
    },
    {
      "cell_type": "code",
      "source": [
        "import pandas as pd\n",
        "import numpy as np\n",
        "import sklearn.preprocessing"
      ],
      "metadata": {
        "id": "sJ7L_ZFAhG7I"
      },
      "execution_count": 2,
      "outputs": []
    },
    {
      "cell_type": "code",
      "source": [
        "X_test = pd.read_csv('/content/yemoonsaBigdata/datasets/Part2/mpg_X_test.csv')\n",
        "X_train = pd.read_csv('/content/yemoonsaBigdata/datasets/Part2/mpg_X_train.csv')\n",
        "y_train = pd.read_csv('/content/yemoonsaBigdata/datasets/Part2/mpg_y_train.csv')"
      ],
      "metadata": {
        "id": "CavYB9AASsO9"
      },
      "execution_count": 3,
      "outputs": []
    },
    {
      "cell_type": "markdown",
      "source": [
        "#데이터 정보 확인"
      ],
      "metadata": {
        "id": "eQq6IBlwWG6N"
      }
    },
    {
      "cell_type": "code",
      "source": [
        "print(X_train.info())"
      ],
      "metadata": {
        "colab": {
          "base_uri": "https://localhost:8080/"
        },
        "id": "lo23J0nrTwq7",
        "outputId": "1055d935-001e-4919-c431-db710741b80f"
      },
      "execution_count": 4,
      "outputs": [
        {
          "output_type": "stream",
          "name": "stdout",
          "text": [
            "<class 'pandas.core.frame.DataFrame'>\n",
            "RangeIndex: 278 entries, 0 to 277\n",
            "Data columns (total 8 columns):\n",
            " #   Column        Non-Null Count  Dtype  \n",
            "---  ------        --------------  -----  \n",
            " 0   name          278 non-null    object \n",
            " 1   mpg           278 non-null    float64\n",
            " 2   cylinders     278 non-null    int64  \n",
            " 3   displacement  278 non-null    float64\n",
            " 4   horsepower    274 non-null    float64\n",
            " 5   weight        278 non-null    int64  \n",
            " 6   acceleration  278 non-null    float64\n",
            " 7   model_year    278 non-null    int64  \n",
            "dtypes: float64(4), int64(3), object(1)\n",
            "memory usage: 17.5+ KB\n",
            "None\n"
          ]
        }
      ]
    },
    {
      "cell_type": "markdown",
      "source": [
        "#데이터 전처리"
      ],
      "metadata": {
        "id": "BFh1GYLZWKBr"
      }
    },
    {
      "cell_type": "code",
      "source": [
        "#결측치 처리 impute\n",
        "from sklearn.impute import SimpleImputer\n",
        "\n",
        "imputer = SimpleImputer(missing_values = np.nan, strategy = 'mean')\n",
        "X_train[['horsepower']]=imputer.fit_transform(X_train[['horsepower']])\n",
        "X_test[['horsepower']]=imputer.fit_transform(X_test[['horsepower']])"
      ],
      "metadata": {
        "id": "3EuYdfXdUZKW"
      },
      "execution_count": 5,
      "outputs": []
    },
    {
      "cell_type": "code",
      "source": [
        "print(X_train.describe())"
      ],
      "metadata": {
        "colab": {
          "base_uri": "https://localhost:8080/"
        },
        "id": "moAXoymIV1hK",
        "outputId": "2bae3d2f-35a7-4c53-c382-7e6cf670a05f"
      },
      "execution_count": 6,
      "outputs": [
        {
          "output_type": "stream",
          "name": "stdout",
          "text": [
            "              mpg   cylinders  displacement  horsepower       weight  \\\n",
            "count  278.000000  278.000000    278.000000  278.000000   278.000000   \n",
            "mean    23.732734    5.374101    189.994604  103.383212  2948.464029   \n",
            "std      7.647295    1.677084    105.471423   38.695458   862.949746   \n",
            "min     10.000000    3.000000     68.000000   46.000000  1613.000000   \n",
            "25%     18.000000    4.000000     98.000000   75.000000  2206.250000   \n",
            "50%     23.000000    4.000000    140.500000   90.500000  2737.500000   \n",
            "75%     29.000000    6.000000    258.000000  118.750000  3560.000000   \n",
            "max     46.600000    8.000000    455.000000  230.000000  5140.000000   \n",
            "\n",
            "       acceleration  model_year  \n",
            "count    278.000000  278.000000  \n",
            "mean      15.580216   76.057554  \n",
            "std        2.745907    3.605591  \n",
            "min        8.000000   70.000000  \n",
            "25%       14.000000   73.000000  \n",
            "50%       15.500000   76.000000  \n",
            "75%       17.000000   79.000000  \n",
            "max       24.800000   82.000000  \n"
          ]
        }
      ]
    },
    {
      "cell_type": "code",
      "source": [
        "#변수의 형태별로 리스트로 저장 => 전처리 진행 시 편리함\n",
        "X_train.info()"
      ],
      "metadata": {
        "id": "-VTxNIoOV3SN",
        "colab": {
          "base_uri": "https://localhost:8080/"
        },
        "outputId": "2b79c0b0-2e02-4d58-c365-928e97eeec5f"
      },
      "execution_count": 7,
      "outputs": [
        {
          "output_type": "stream",
          "name": "stdout",
          "text": [
            "<class 'pandas.core.frame.DataFrame'>\n",
            "RangeIndex: 278 entries, 0 to 277\n",
            "Data columns (total 8 columns):\n",
            " #   Column        Non-Null Count  Dtype  \n",
            "---  ------        --------------  -----  \n",
            " 0   name          278 non-null    object \n",
            " 1   mpg           278 non-null    float64\n",
            " 2   cylinders     278 non-null    int64  \n",
            " 3   displacement  278 non-null    float64\n",
            " 4   horsepower    278 non-null    float64\n",
            " 5   weight        278 non-null    int64  \n",
            " 6   acceleration  278 non-null    float64\n",
            " 7   model_year    278 non-null    int64  \n",
            "dtypes: float64(4), int64(3), object(1)\n",
            "memory usage: 17.5+ KB\n"
          ]
        }
      ]
    },
    {
      "cell_type": "code",
      "source": [
        "COL_DEL = ['name'] #분석에 영향x drop\n",
        "COL_NUM = ['mpg','cylinders','displacement','horsepower','weight','acceleration','model_year']\n",
        "COL_CAT = []  #카테고리(범주)형 => 인코딩 변환\n",
        "COL_Y = ['isUSA']\n",
        "\n",
        "X_train = X_train.iloc[:,1:]\n",
        "X_test = X_test.iloc[:,1:]"
      ],
      "metadata": {
        "id": "zqJLDl9Kxjuv"
      },
      "execution_count": 8,
      "outputs": []
    },
    {
      "cell_type": "markdown",
      "source": [
        "#데이터 모형 구축"
      ],
      "metadata": {
        "id": "U08OkIdK_N7q"
      }
    },
    {
      "cell_type": "code",
      "source": [
        "#데이터 분할\n",
        "from sklearn.model_selection import train_test_split\n",
        "X_tr,X_val,y_tr,y_val = train_test_split(X_train,y_train,test_size=0.3)"
      ],
      "metadata": {
        "id": "3m1YK0ZM_QZ0"
      },
      "execution_count": 9,
      "outputs": []
    },
    {
      "cell_type": "code",
      "source": [
        "#수치형 변수 스케일링\n",
        "from sklearn.preprocessing import StandardScaler\n",
        "\n",
        "scaler = StandardScaler()\n",
        "X_tr = scaler.fit_transform(X_tr[COL_NUM])\n",
        "X_val = scaler.transform(X_val[COL_NUM])\n",
        "X_test = scaler.transform(X_test[COL_NUM])"
      ],
      "metadata": {
        "id": "VF-wPJ9m_ZSp"
      },
      "execution_count": 10,
      "outputs": []
    },
    {
      "cell_type": "code",
      "source": [
        "#KNN 분류 모델\n",
        "from sklearn.neighbors import KNeighborsClassifier\n",
        "\n",
        "modelKNN = KNeighborsClassifier(n_neighbors=5, metric='euclidean')\n",
        "modelKNN.fit(X_tr,y_tr.values)"
      ],
      "metadata": {
        "colab": {
          "base_uri": "https://localhost:8080/",
          "height": 131
        },
        "id": "LPFJMOUBBwnj",
        "outputId": "87167df8-3daa-4826-a6f3-fb787e0f55d9"
      },
      "execution_count": 11,
      "outputs": [
        {
          "output_type": "stream",
          "name": "stderr",
          "text": [
            "/usr/local/lib/python3.10/dist-packages/sklearn/neighbors/_classification.py:215: DataConversionWarning: A column-vector y was passed when a 1d array was expected. Please change the shape of y to (n_samples,), for example using ravel().\n",
            "  return self._fit(X, y)\n"
          ]
        },
        {
          "output_type": "execute_result",
          "data": {
            "text/plain": [
              "KNeighborsClassifier(metric='euclidean')"
            ],
            "text/html": [
              "<style>#sk-container-id-1 {color: black;background-color: white;}#sk-container-id-1 pre{padding: 0;}#sk-container-id-1 div.sk-toggleable {background-color: white;}#sk-container-id-1 label.sk-toggleable__label {cursor: pointer;display: block;width: 100%;margin-bottom: 0;padding: 0.3em;box-sizing: border-box;text-align: center;}#sk-container-id-1 label.sk-toggleable__label-arrow:before {content: \"▸\";float: left;margin-right: 0.25em;color: #696969;}#sk-container-id-1 label.sk-toggleable__label-arrow:hover:before {color: black;}#sk-container-id-1 div.sk-estimator:hover label.sk-toggleable__label-arrow:before {color: black;}#sk-container-id-1 div.sk-toggleable__content {max-height: 0;max-width: 0;overflow: hidden;text-align: left;background-color: #f0f8ff;}#sk-container-id-1 div.sk-toggleable__content pre {margin: 0.2em;color: black;border-radius: 0.25em;background-color: #f0f8ff;}#sk-container-id-1 input.sk-toggleable__control:checked~div.sk-toggleable__content {max-height: 200px;max-width: 100%;overflow: auto;}#sk-container-id-1 input.sk-toggleable__control:checked~label.sk-toggleable__label-arrow:before {content: \"▾\";}#sk-container-id-1 div.sk-estimator input.sk-toggleable__control:checked~label.sk-toggleable__label {background-color: #d4ebff;}#sk-container-id-1 div.sk-label input.sk-toggleable__control:checked~label.sk-toggleable__label {background-color: #d4ebff;}#sk-container-id-1 input.sk-hidden--visually {border: 0;clip: rect(1px 1px 1px 1px);clip: rect(1px, 1px, 1px, 1px);height: 1px;margin: -1px;overflow: hidden;padding: 0;position: absolute;width: 1px;}#sk-container-id-1 div.sk-estimator {font-family: monospace;background-color: #f0f8ff;border: 1px dotted black;border-radius: 0.25em;box-sizing: border-box;margin-bottom: 0.5em;}#sk-container-id-1 div.sk-estimator:hover {background-color: #d4ebff;}#sk-container-id-1 div.sk-parallel-item::after {content: \"\";width: 100%;border-bottom: 1px solid gray;flex-grow: 1;}#sk-container-id-1 div.sk-label:hover label.sk-toggleable__label {background-color: #d4ebff;}#sk-container-id-1 div.sk-serial::before {content: \"\";position: absolute;border-left: 1px solid gray;box-sizing: border-box;top: 0;bottom: 0;left: 50%;z-index: 0;}#sk-container-id-1 div.sk-serial {display: flex;flex-direction: column;align-items: center;background-color: white;padding-right: 0.2em;padding-left: 0.2em;position: relative;}#sk-container-id-1 div.sk-item {position: relative;z-index: 1;}#sk-container-id-1 div.sk-parallel {display: flex;align-items: stretch;justify-content: center;background-color: white;position: relative;}#sk-container-id-1 div.sk-item::before, #sk-container-id-1 div.sk-parallel-item::before {content: \"\";position: absolute;border-left: 1px solid gray;box-sizing: border-box;top: 0;bottom: 0;left: 50%;z-index: -1;}#sk-container-id-1 div.sk-parallel-item {display: flex;flex-direction: column;z-index: 1;position: relative;background-color: white;}#sk-container-id-1 div.sk-parallel-item:first-child::after {align-self: flex-end;width: 50%;}#sk-container-id-1 div.sk-parallel-item:last-child::after {align-self: flex-start;width: 50%;}#sk-container-id-1 div.sk-parallel-item:only-child::after {width: 0;}#sk-container-id-1 div.sk-dashed-wrapped {border: 1px dashed gray;margin: 0 0.4em 0.5em 0.4em;box-sizing: border-box;padding-bottom: 0.4em;background-color: white;}#sk-container-id-1 div.sk-label label {font-family: monospace;font-weight: bold;display: inline-block;line-height: 1.2em;}#sk-container-id-1 div.sk-label-container {text-align: center;}#sk-container-id-1 div.sk-container {/* jupyter's `normalize.less` sets `[hidden] { display: none; }` but bootstrap.min.css set `[hidden] { display: none !important; }` so we also need the `!important` here to be able to override the default hidden behavior on the sphinx rendered scikit-learn.org. See: https://github.com/scikit-learn/scikit-learn/issues/21755 */display: inline-block !important;position: relative;}#sk-container-id-1 div.sk-text-repr-fallback {display: none;}</style><div id=\"sk-container-id-1\" class=\"sk-top-container\"><div class=\"sk-text-repr-fallback\"><pre>KNeighborsClassifier(metric=&#x27;euclidean&#x27;)</pre><b>In a Jupyter environment, please rerun this cell to show the HTML representation or trust the notebook. <br />On GitHub, the HTML representation is unable to render, please try loading this page with nbviewer.org.</b></div><div class=\"sk-container\" hidden><div class=\"sk-item\"><div class=\"sk-estimator sk-toggleable\"><input class=\"sk-toggleable__control sk-hidden--visually\" id=\"sk-estimator-id-1\" type=\"checkbox\" checked><label for=\"sk-estimator-id-1\" class=\"sk-toggleable__label sk-toggleable__label-arrow\">KNeighborsClassifier</label><div class=\"sk-toggleable__content\"><pre>KNeighborsClassifier(metric=&#x27;euclidean&#x27;)</pre></div></div></div></div></div>"
            ]
          },
          "metadata": {},
          "execution_count": 11
        }
      ]
    },
    {
      "cell_type": "code",
      "source": [
        "y_tr"
      ],
      "metadata": {
        "colab": {
          "base_uri": "https://localhost:8080/",
          "height": 423
        },
        "id": "Dgjl2ljcCWd4",
        "outputId": "91fde391-7214-4846-df61-bf7b11efafcc"
      },
      "execution_count": 12,
      "outputs": [
        {
          "output_type": "execute_result",
          "data": {
            "text/plain": [
              "     isUSA\n",
              "193      0\n",
              "202      0\n",
              "175      0\n",
              "271      0\n",
              "252      1\n",
              "..     ...\n",
              "17       1\n",
              "54       0\n",
              "46       1\n",
              "254      1\n",
              "32       1\n",
              "\n",
              "[194 rows x 1 columns]"
            ],
            "text/html": [
              "\n",
              "  <div id=\"df-7068d1ae-75f7-4e9c-9725-f4bc1c05757c\">\n",
              "    <div class=\"colab-df-container\">\n",
              "      <div>\n",
              "<style scoped>\n",
              "    .dataframe tbody tr th:only-of-type {\n",
              "        vertical-align: middle;\n",
              "    }\n",
              "\n",
              "    .dataframe tbody tr th {\n",
              "        vertical-align: top;\n",
              "    }\n",
              "\n",
              "    .dataframe thead th {\n",
              "        text-align: right;\n",
              "    }\n",
              "</style>\n",
              "<table border=\"1\" class=\"dataframe\">\n",
              "  <thead>\n",
              "    <tr style=\"text-align: right;\">\n",
              "      <th></th>\n",
              "      <th>isUSA</th>\n",
              "    </tr>\n",
              "  </thead>\n",
              "  <tbody>\n",
              "    <tr>\n",
              "      <th>193</th>\n",
              "      <td>0</td>\n",
              "    </tr>\n",
              "    <tr>\n",
              "      <th>202</th>\n",
              "      <td>0</td>\n",
              "    </tr>\n",
              "    <tr>\n",
              "      <th>175</th>\n",
              "      <td>0</td>\n",
              "    </tr>\n",
              "    <tr>\n",
              "      <th>271</th>\n",
              "      <td>0</td>\n",
              "    </tr>\n",
              "    <tr>\n",
              "      <th>252</th>\n",
              "      <td>1</td>\n",
              "    </tr>\n",
              "    <tr>\n",
              "      <th>...</th>\n",
              "      <td>...</td>\n",
              "    </tr>\n",
              "    <tr>\n",
              "      <th>17</th>\n",
              "      <td>1</td>\n",
              "    </tr>\n",
              "    <tr>\n",
              "      <th>54</th>\n",
              "      <td>0</td>\n",
              "    </tr>\n",
              "    <tr>\n",
              "      <th>46</th>\n",
              "      <td>1</td>\n",
              "    </tr>\n",
              "    <tr>\n",
              "      <th>254</th>\n",
              "      <td>1</td>\n",
              "    </tr>\n",
              "    <tr>\n",
              "      <th>32</th>\n",
              "      <td>1</td>\n",
              "    </tr>\n",
              "  </tbody>\n",
              "</table>\n",
              "<p>194 rows × 1 columns</p>\n",
              "</div>\n",
              "      <button class=\"colab-df-convert\" onclick=\"convertToInteractive('df-7068d1ae-75f7-4e9c-9725-f4bc1c05757c')\"\n",
              "              title=\"Convert this dataframe to an interactive table.\"\n",
              "              style=\"display:none;\">\n",
              "        \n",
              "  <svg xmlns=\"http://www.w3.org/2000/svg\" height=\"24px\"viewBox=\"0 0 24 24\"\n",
              "       width=\"24px\">\n",
              "    <path d=\"M0 0h24v24H0V0z\" fill=\"none\"/>\n",
              "    <path d=\"M18.56 5.44l.94 2.06.94-2.06 2.06-.94-2.06-.94-.94-2.06-.94 2.06-2.06.94zm-11 1L8.5 8.5l.94-2.06 2.06-.94-2.06-.94L8.5 2.5l-.94 2.06-2.06.94zm10 10l.94 2.06.94-2.06 2.06-.94-2.06-.94-.94-2.06-.94 2.06-2.06.94z\"/><path d=\"M17.41 7.96l-1.37-1.37c-.4-.4-.92-.59-1.43-.59-.52 0-1.04.2-1.43.59L10.3 9.45l-7.72 7.72c-.78.78-.78 2.05 0 2.83L4 21.41c.39.39.9.59 1.41.59.51 0 1.02-.2 1.41-.59l7.78-7.78 2.81-2.81c.8-.78.8-2.07 0-2.86zM5.41 20L4 18.59l7.72-7.72 1.47 1.35L5.41 20z\"/>\n",
              "  </svg>\n",
              "      </button>\n",
              "      \n",
              "  <style>\n",
              "    .colab-df-container {\n",
              "      display:flex;\n",
              "      flex-wrap:wrap;\n",
              "      gap: 12px;\n",
              "    }\n",
              "\n",
              "    .colab-df-convert {\n",
              "      background-color: #E8F0FE;\n",
              "      border: none;\n",
              "      border-radius: 50%;\n",
              "      cursor: pointer;\n",
              "      display: none;\n",
              "      fill: #1967D2;\n",
              "      height: 32px;\n",
              "      padding: 0 0 0 0;\n",
              "      width: 32px;\n",
              "    }\n",
              "\n",
              "    .colab-df-convert:hover {\n",
              "      background-color: #E2EBFA;\n",
              "      box-shadow: 0px 1px 2px rgba(60, 64, 67, 0.3), 0px 1px 3px 1px rgba(60, 64, 67, 0.15);\n",
              "      fill: #174EA6;\n",
              "    }\n",
              "\n",
              "    [theme=dark] .colab-df-convert {\n",
              "      background-color: #3B4455;\n",
              "      fill: #D2E3FC;\n",
              "    }\n",
              "\n",
              "    [theme=dark] .colab-df-convert:hover {\n",
              "      background-color: #434B5C;\n",
              "      box-shadow: 0px 1px 3px 1px rgba(0, 0, 0, 0.15);\n",
              "      filter: drop-shadow(0px 1px 2px rgba(0, 0, 0, 0.3));\n",
              "      fill: #FFFFFF;\n",
              "    }\n",
              "  </style>\n",
              "\n",
              "      <script>\n",
              "        const buttonEl =\n",
              "          document.querySelector('#df-7068d1ae-75f7-4e9c-9725-f4bc1c05757c button.colab-df-convert');\n",
              "        buttonEl.style.display =\n",
              "          google.colab.kernel.accessAllowed ? 'block' : 'none';\n",
              "\n",
              "        async function convertToInteractive(key) {\n",
              "          const element = document.querySelector('#df-7068d1ae-75f7-4e9c-9725-f4bc1c05757c');\n",
              "          const dataTable =\n",
              "            await google.colab.kernel.invokeFunction('convertToInteractive',\n",
              "                                                     [key], {});\n",
              "          if (!dataTable) return;\n",
              "\n",
              "          const docLinkHtml = 'Like what you see? Visit the ' +\n",
              "            '<a target=\"_blank\" href=https://colab.research.google.com/notebooks/data_table.ipynb>data table notebook</a>'\n",
              "            + ' to learn more about interactive tables.';\n",
              "          element.innerHTML = '';\n",
              "          dataTable['output_type'] = 'display_data';\n",
              "          await google.colab.output.renderOutput(dataTable, element);\n",
              "          const docLink = document.createElement('div');\n",
              "          docLink.innerHTML = docLinkHtml;\n",
              "          element.appendChild(docLink);\n",
              "        }\n",
              "      </script>\n",
              "    </div>\n",
              "  </div>\n",
              "  "
            ]
          },
          "metadata": {},
          "execution_count": 12
        }
      ]
    },
    {
      "cell_type": "code",
      "source": [
        "from sklearn.tree import DecisionTreeClassifier\n",
        "modelDT = DecisionTreeClassifier(max_depth=10)\n",
        "modelDT.fit(X_tr,y_tr)"
      ],
      "metadata": {
        "id": "UIYgosYOCZqb",
        "colab": {
          "base_uri": "https://localhost:8080/",
          "height": 74
        },
        "outputId": "85a9107e-8200-4cf5-fb69-c854e3b20101"
      },
      "execution_count": 13,
      "outputs": [
        {
          "output_type": "execute_result",
          "data": {
            "text/plain": [
              "DecisionTreeClassifier(max_depth=10)"
            ],
            "text/html": [
              "<style>#sk-container-id-2 {color: black;background-color: white;}#sk-container-id-2 pre{padding: 0;}#sk-container-id-2 div.sk-toggleable {background-color: white;}#sk-container-id-2 label.sk-toggleable__label {cursor: pointer;display: block;width: 100%;margin-bottom: 0;padding: 0.3em;box-sizing: border-box;text-align: center;}#sk-container-id-2 label.sk-toggleable__label-arrow:before {content: \"▸\";float: left;margin-right: 0.25em;color: #696969;}#sk-container-id-2 label.sk-toggleable__label-arrow:hover:before {color: black;}#sk-container-id-2 div.sk-estimator:hover label.sk-toggleable__label-arrow:before {color: black;}#sk-container-id-2 div.sk-toggleable__content {max-height: 0;max-width: 0;overflow: hidden;text-align: left;background-color: #f0f8ff;}#sk-container-id-2 div.sk-toggleable__content pre {margin: 0.2em;color: black;border-radius: 0.25em;background-color: #f0f8ff;}#sk-container-id-2 input.sk-toggleable__control:checked~div.sk-toggleable__content {max-height: 200px;max-width: 100%;overflow: auto;}#sk-container-id-2 input.sk-toggleable__control:checked~label.sk-toggleable__label-arrow:before {content: \"▾\";}#sk-container-id-2 div.sk-estimator input.sk-toggleable__control:checked~label.sk-toggleable__label {background-color: #d4ebff;}#sk-container-id-2 div.sk-label input.sk-toggleable__control:checked~label.sk-toggleable__label {background-color: #d4ebff;}#sk-container-id-2 input.sk-hidden--visually {border: 0;clip: rect(1px 1px 1px 1px);clip: rect(1px, 1px, 1px, 1px);height: 1px;margin: -1px;overflow: hidden;padding: 0;position: absolute;width: 1px;}#sk-container-id-2 div.sk-estimator {font-family: monospace;background-color: #f0f8ff;border: 1px dotted black;border-radius: 0.25em;box-sizing: border-box;margin-bottom: 0.5em;}#sk-container-id-2 div.sk-estimator:hover {background-color: #d4ebff;}#sk-container-id-2 div.sk-parallel-item::after {content: \"\";width: 100%;border-bottom: 1px solid gray;flex-grow: 1;}#sk-container-id-2 div.sk-label:hover label.sk-toggleable__label {background-color: #d4ebff;}#sk-container-id-2 div.sk-serial::before {content: \"\";position: absolute;border-left: 1px solid gray;box-sizing: border-box;top: 0;bottom: 0;left: 50%;z-index: 0;}#sk-container-id-2 div.sk-serial {display: flex;flex-direction: column;align-items: center;background-color: white;padding-right: 0.2em;padding-left: 0.2em;position: relative;}#sk-container-id-2 div.sk-item {position: relative;z-index: 1;}#sk-container-id-2 div.sk-parallel {display: flex;align-items: stretch;justify-content: center;background-color: white;position: relative;}#sk-container-id-2 div.sk-item::before, #sk-container-id-2 div.sk-parallel-item::before {content: \"\";position: absolute;border-left: 1px solid gray;box-sizing: border-box;top: 0;bottom: 0;left: 50%;z-index: -1;}#sk-container-id-2 div.sk-parallel-item {display: flex;flex-direction: column;z-index: 1;position: relative;background-color: white;}#sk-container-id-2 div.sk-parallel-item:first-child::after {align-self: flex-end;width: 50%;}#sk-container-id-2 div.sk-parallel-item:last-child::after {align-self: flex-start;width: 50%;}#sk-container-id-2 div.sk-parallel-item:only-child::after {width: 0;}#sk-container-id-2 div.sk-dashed-wrapped {border: 1px dashed gray;margin: 0 0.4em 0.5em 0.4em;box-sizing: border-box;padding-bottom: 0.4em;background-color: white;}#sk-container-id-2 div.sk-label label {font-family: monospace;font-weight: bold;display: inline-block;line-height: 1.2em;}#sk-container-id-2 div.sk-label-container {text-align: center;}#sk-container-id-2 div.sk-container {/* jupyter's `normalize.less` sets `[hidden] { display: none; }` but bootstrap.min.css set `[hidden] { display: none !important; }` so we also need the `!important` here to be able to override the default hidden behavior on the sphinx rendered scikit-learn.org. See: https://github.com/scikit-learn/scikit-learn/issues/21755 */display: inline-block !important;position: relative;}#sk-container-id-2 div.sk-text-repr-fallback {display: none;}</style><div id=\"sk-container-id-2\" class=\"sk-top-container\"><div class=\"sk-text-repr-fallback\"><pre>DecisionTreeClassifier(max_depth=10)</pre><b>In a Jupyter environment, please rerun this cell to show the HTML representation or trust the notebook. <br />On GitHub, the HTML representation is unable to render, please try loading this page with nbviewer.org.</b></div><div class=\"sk-container\" hidden><div class=\"sk-item\"><div class=\"sk-estimator sk-toggleable\"><input class=\"sk-toggleable__control sk-hidden--visually\" id=\"sk-estimator-id-2\" type=\"checkbox\" checked><label for=\"sk-estimator-id-2\" class=\"sk-toggleable__label sk-toggleable__label-arrow\">DecisionTreeClassifier</label><div class=\"sk-toggleable__content\"><pre>DecisionTreeClassifier(max_depth=10)</pre></div></div></div></div></div>"
            ]
          },
          "metadata": {},
          "execution_count": 13
        }
      ]
    },
    {
      "cell_type": "code",
      "source": [
        "y_val_pred_probaKNN = modelKNN.predict_proba(X_val)\n",
        "y_val_pred_probaDT = modelDT.predict_proba(X_val)"
      ],
      "metadata": {
        "id": "rQLOFXnLYnjD"
      },
      "execution_count": 14,
      "outputs": []
    },
    {
      "cell_type": "code",
      "source": [
        "y_val_proba = modelKNN.predict(X_val)"
      ],
      "metadata": {
        "id": "z0tz5rYKbscC"
      },
      "execution_count": 16,
      "outputs": []
    },
    {
      "cell_type": "code",
      "source": [
        "from sklearn.metrics import roc_auc_score\n",
        "\n",
        "scoreKNN = roc_auc_score(y_val,y_val_pred_probaKNN[:,1])\n",
        "scoreDT = roc_auc_score(y_val,y_val_pred_probaDT[:,1])\n",
        "\n",
        "print(scoreKNN,scoreDT)"
      ],
      "metadata": {
        "colab": {
          "base_uri": "https://localhost:8080/"
        },
        "id": "q8aUBW7mbzA0",
        "outputId": "2c0d5548-034e-4441-fda4-c08fbec46347"
      },
      "execution_count": 18,
      "outputs": [
        {
          "output_type": "stream",
          "name": "stdout",
          "text": [
            "0.8259061200237672 0.82174688057041\n"
          ]
        }
      ]
    },
    {
      "cell_type": "code",
      "source": [
        "best_model = None\n",
        "best_score=0\n",
        "\n",
        "for i in range(2,10):\n",
        "  model = KNeighborsClassifier(n_neighbors=i,metric='euclidean')\n",
        "  model.fit(X_tr,y_tr.values.ravel())\n",
        "  y_val_pred_proba =model.predict_proba(X_val)\n",
        "  score = roc_auc_score(y_val,y_val_pred_proba[:,1])\n",
        "  print(i,\"개의 이웃 확인 : \",score)\n",
        "\n",
        "  if best_score <= score :\n",
        "    best_score = score\n",
        "    best_model = model\n",
        "\n",
        "print(best_model)"
      ],
      "metadata": {
        "colab": {
          "base_uri": "https://localhost:8080/"
        },
        "id": "vQ6_bfJ4hMlP",
        "outputId": "ec780829-6955-4521-9ef7-2f422587ffef"
      },
      "execution_count": 26,
      "outputs": [
        {
          "output_type": "stream",
          "name": "stdout",
          "text": [
            "2 개의 이웃 확인 :  0.8137254901960784\n",
            "3 개의 이웃 확인 :  0.8199643493761141\n",
            "4 개의 이웃 확인 :  0.8345216874628638\n",
            "5 개의 이웃 확인 :  0.8259061200237672\n",
            "6 개의 이웃 확인 :  0.8262032085561497\n",
            "7 개의 이웃 확인 :  0.8458110516934048\n",
            "8 개의 이웃 확인 :  0.8499702911467619\n",
            "9 개의 이웃 확인 :  0.8300653594771242\n",
            "KNeighborsClassifier(metric='euclidean', n_neighbors=8)\n"
          ]
        }
      ]
    },
    {
      "cell_type": "code",
      "source": [
        "print(best_model.predict_proba(X_test))"
      ],
      "metadata": {
        "colab": {
          "base_uri": "https://localhost:8080/"
        },
        "id": "kctle9cdgy4s",
        "outputId": "4e4f6e54-7397-46f5-f22d-5f2d85db55cb"
      },
      "execution_count": 27,
      "outputs": [
        {
          "output_type": "stream",
          "name": "stdout",
          "text": [
            "[[0.875 0.125]\n",
            " [0.25  0.75 ]\n",
            " [0.    1.   ]\n",
            " [0.    1.   ]\n",
            " [0.875 0.125]\n",
            " [0.875 0.125]\n",
            " [0.625 0.375]\n",
            " [0.75  0.25 ]\n",
            " [0.625 0.375]\n",
            " [0.5   0.5  ]\n",
            " [0.    1.   ]\n",
            " [0.25  0.75 ]\n",
            " [0.    1.   ]\n",
            " [0.5   0.5  ]\n",
            " [0.75  0.25 ]\n",
            " [0.875 0.125]\n",
            " [0.    1.   ]\n",
            " [0.    1.   ]\n",
            " [0.875 0.125]\n",
            " [0.    1.   ]\n",
            " [0.    1.   ]\n",
            " [0.    1.   ]\n",
            " [0.    1.   ]\n",
            " [0.    1.   ]\n",
            " [0.    1.   ]\n",
            " [0.625 0.375]\n",
            " [0.875 0.125]\n",
            " [0.    1.   ]\n",
            " [0.    1.   ]\n",
            " [0.375 0.625]\n",
            " [1.    0.   ]\n",
            " [0.75  0.25 ]\n",
            " [0.625 0.375]\n",
            " [0.125 0.875]\n",
            " [0.    1.   ]\n",
            " [0.375 0.625]\n",
            " [0.5   0.5  ]\n",
            " [0.    1.   ]\n",
            " [0.875 0.125]\n",
            " [0.25  0.75 ]\n",
            " [0.    1.   ]\n",
            " [0.875 0.125]\n",
            " [1.    0.   ]\n",
            " [0.5   0.5  ]\n",
            " [0.875 0.125]\n",
            " [0.625 0.375]\n",
            " [0.625 0.375]\n",
            " [0.    1.   ]\n",
            " [0.875 0.125]\n",
            " [0.    1.   ]\n",
            " [1.    0.   ]\n",
            " [0.875 0.125]\n",
            " [0.    1.   ]\n",
            " [0.875 0.125]\n",
            " [0.    1.   ]\n",
            " [0.    1.   ]\n",
            " [0.    1.   ]\n",
            " [0.25  0.75 ]\n",
            " [0.    1.   ]\n",
            " [0.625 0.375]\n",
            " [0.    1.   ]\n",
            " [0.25  0.75 ]\n",
            " [0.    1.   ]\n",
            " [0.    1.   ]\n",
            " [0.125 0.875]\n",
            " [0.    1.   ]\n",
            " [0.    1.   ]\n",
            " [0.875 0.125]\n",
            " [0.125 0.875]\n",
            " [0.875 0.125]\n",
            " [0.125 0.875]\n",
            " [0.    1.   ]\n",
            " [0.375 0.625]\n",
            " [1.    0.   ]\n",
            " [0.    1.   ]\n",
            " [0.75  0.25 ]\n",
            " [0.    1.   ]\n",
            " [0.75  0.25 ]\n",
            " [0.75  0.25 ]\n",
            " [0.    1.   ]\n",
            " [0.125 0.875]\n",
            " [0.    1.   ]\n",
            " [1.    0.   ]\n",
            " [0.    1.   ]\n",
            " [0.    1.   ]\n",
            " [0.125 0.875]\n",
            " [0.875 0.125]\n",
            " [0.875 0.125]\n",
            " [0.875 0.125]\n",
            " [0.    1.   ]\n",
            " [0.    1.   ]\n",
            " [0.    1.   ]\n",
            " [0.    1.   ]\n",
            " [0.    1.   ]\n",
            " [0.    1.   ]\n",
            " [0.125 0.875]\n",
            " [0.875 0.125]\n",
            " [0.    1.   ]\n",
            " [0.    1.   ]\n",
            " [0.    1.   ]\n",
            " [0.    1.   ]\n",
            " [0.    1.   ]\n",
            " [0.    1.   ]\n",
            " [0.    1.   ]\n",
            " [0.    1.   ]\n",
            " [0.875 0.125]\n",
            " [0.625 0.375]\n",
            " [0.375 0.625]\n",
            " [0.875 0.125]\n",
            " [0.    1.   ]\n",
            " [0.875 0.125]\n",
            " [0.125 0.875]\n",
            " [0.875 0.125]\n",
            " [0.    1.   ]\n",
            " [0.    1.   ]\n",
            " [1.    0.   ]\n",
            " [0.    1.   ]\n",
            " [0.    1.   ]\n",
            " [0.    1.   ]\n",
            " [1.    0.   ]]\n"
          ]
        }
      ]
    },
    {
      "cell_type": "code",
      "source": [
        "pred = best_model.predict_proba(X_test)[:,1]\n",
        "print(pred)"
      ],
      "metadata": {
        "colab": {
          "base_uri": "https://localhost:8080/"
        },
        "id": "VoJn67Vkljs2",
        "outputId": "e26a3b4d-cf2e-49e1-c643-90b61f924ab3"
      },
      "execution_count": 28,
      "outputs": [
        {
          "output_type": "stream",
          "name": "stdout",
          "text": [
            "[0.125 0.75  1.    1.    0.125 0.125 0.375 0.25  0.375 0.5   1.    0.75\n",
            " 1.    0.5   0.25  0.125 1.    1.    0.125 1.    1.    1.    1.    1.\n",
            " 1.    0.375 0.125 1.    1.    0.625 0.    0.25  0.375 0.875 1.    0.625\n",
            " 0.5   1.    0.125 0.75  1.    0.125 0.    0.5   0.125 0.375 0.375 1.\n",
            " 0.125 1.    0.    0.125 1.    0.125 1.    1.    1.    0.75  1.    0.375\n",
            " 1.    0.75  1.    1.    0.875 1.    1.    0.125 0.875 0.125 0.875 1.\n",
            " 0.625 0.    1.    0.25  1.    0.25  0.25  1.    0.875 1.    0.    1.\n",
            " 1.    0.875 0.125 0.125 0.125 1.    1.    1.    1.    1.    1.    0.875\n",
            " 0.125 1.    1.    1.    1.    1.    1.    1.    1.    0.125 0.375 0.625\n",
            " 0.125 1.    0.125 0.875 0.125 1.    1.    0.    1.    1.    1.    0.   ]\n"
          ]
        }
      ]
    },
    {
      "cell_type": "code",
      "source": [
        "pd.DataFrame({'isUSA':pred}).to_csv('./003000000.csv',index=False)"
      ],
      "metadata": {
        "id": "QfkRKCN9luwa"
      },
      "execution_count": 31,
      "outputs": []
    },
    {
      "cell_type": "code",
      "source": [],
      "metadata": {
        "id": "zpPSHBqEqExX"
      },
      "execution_count": null,
      "outputs": []
    }
  ]
}